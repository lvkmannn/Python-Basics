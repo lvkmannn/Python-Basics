{
 "cells": [
  {
   "cell_type": "markdown",
   "id": "44397038-86ad-49a5-b5ea-0da568522d41",
   "metadata": {},
   "source": [
    "# 0. Variables"
   ]
  },
  {
   "cell_type": "code",
   "execution_count": 139,
   "id": "e0dab044-8ad3-41b2-9a68-00ca04a18f2a",
   "metadata": {},
   "outputs": [],
   "source": [
    "space_name = 123.678"
   ]
  },
  {
   "cell_type": "code",
   "execution_count": 140,
   "id": "49c217c5-e79c-4741-bfcb-60911fdbeb1b",
   "metadata": {},
   "outputs": [
    {
     "data": {
      "text/plain": [
       "123.678"
      ]
     },
     "execution_count": 140,
     "metadata": {},
     "output_type": "execute_result"
    }
   ],
   "source": [
    "space_name"
   ]
  },
  {
   "cell_type": "code",
   "execution_count": 141,
   "id": "c714f8ac-5d53-4874-b857-d367f24adb70",
   "metadata": {},
   "outputs": [
    {
     "data": {
      "text/plain": [
       "float"
      ]
     },
     "execution_count": 141,
     "metadata": {},
     "output_type": "execute_result"
    }
   ],
   "source": [
    "type(space_name)"
   ]
  },
  {
   "cell_type": "markdown",
   "id": "2eef1992-ac68-4206-b68d-fcf9bfaf93fc",
   "metadata": {},
   "source": [
    "# 1. Data Types"
   ]
  },
  {
   "cell_type": "code",
   "execution_count": 142,
   "id": "0e692194-fd64-4792-bd4d-94730032013d",
   "metadata": {},
   "outputs": [
    {
     "name": "stdout",
     "output_type": "stream",
     "text": [
      "pluto\n"
     ]
    }
   ],
   "source": [
    "# This is declaring a variable as a STRING\n",
    "test_variable = 'pluto'\n",
    "print(test_variable)"
   ]
  },
  {
   "cell_type": "code",
   "execution_count": 143,
   "id": "1c62ee7b-240c-4b86-85f0-a21d1abf10c0",
   "metadata": {},
   "outputs": [
    {
     "data": {
      "text/plain": [
       "str"
      ]
     },
     "execution_count": 143,
     "metadata": {},
     "output_type": "execute_result"
    }
   ],
   "source": [
    "type(test_variable)"
   ]
  },
  {
   "cell_type": "code",
   "execution_count": 144,
   "id": "0a3b7ce8-8d59-45f0-a744-f3ebe2f90e47",
   "metadata": {},
   "outputs": [
    {
     "data": {
      "text/plain": [
       "int"
      ]
     },
     "execution_count": 144,
     "metadata": {},
     "output_type": "execute_result"
    }
   ],
   "source": [
    "#This is declaring a variable as an Integer\n",
    "integer_variable = 12345\n",
    "type(integer_variable)"
   ]
  },
  {
   "cell_type": "code",
   "execution_count": 145,
   "id": "9dd696a1-0c93-4a13-ab52-b42808cf9be2",
   "metadata": {},
   "outputs": [
    {
     "data": {
      "text/plain": [
       "12355"
      ]
     },
     "execution_count": 145,
     "metadata": {},
     "output_type": "execute_result"
    }
   ],
   "source": [
    "integer_variable + 10"
   ]
  },
  {
   "cell_type": "code",
   "execution_count": 146,
   "id": "0c7758ab-3c5f-4cb0-a37c-7ae4ef7f89e9",
   "metadata": {},
   "outputs": [
    {
     "data": {
      "text/plain": [
       "float"
      ]
     },
     "execution_count": 146,
     "metadata": {},
     "output_type": "execute_result"
    }
   ],
   "source": [
    "#Declaring variable as a Float\n",
    "float_variable = 123.126\n",
    "type(float_variable)"
   ]
  },
  {
   "cell_type": "code",
   "execution_count": 147,
   "id": "799221ea-7ada-4d0f-b54b-eb58cc06b931",
   "metadata": {},
   "outputs": [
    {
     "data": {
      "text/plain": [
       "bool"
      ]
     },
     "execution_count": 147,
     "metadata": {},
     "output_type": "execute_result"
    }
   ],
   "source": [
    "#This is declaring a Boolean value to a variable\n",
    "bool_variable = bool(0)\n",
    "type(bool_variable)"
   ]
  },
  {
   "cell_type": "code",
   "execution_count": 148,
   "id": "41029d2d-ad4e-4336-b2a3-433801afb075",
   "metadata": {},
   "outputs": [
    {
     "data": {
      "text/plain": [
       "False"
      ]
     },
     "execution_count": 148,
     "metadata": {},
     "output_type": "execute_result"
    }
   ],
   "source": [
    "bool_variable"
   ]
  },
  {
   "cell_type": "code",
   "execution_count": 149,
   "id": "f963c3e2-5ac7-420e-84b4-1740a278b8c0",
   "metadata": {},
   "outputs": [
    {
     "data": {
      "text/plain": [
       "list"
      ]
     },
     "execution_count": 149,
     "metadata": {},
     "output_type": "execute_result"
    }
   ],
   "source": [
    "# This is creating a list variable\n",
    "list_variable=[1, 2, 3, 23.44, 85.4, 22.1,3,1,2,3]\n",
    "type(list_variable)"
   ]
  },
  {
   "cell_type": "code",
   "execution_count": 150,
   "id": "97b35cbf-0cbb-43df-b6f1-8f13bb1af92a",
   "metadata": {},
   "outputs": [
    {
     "data": {
      "text/plain": [
       "[1, 2, 3, 23.44, 85.4, 22.1, 3, 1, 2, 3]"
      ]
     },
     "execution_count": 150,
     "metadata": {},
     "output_type": "execute_result"
    }
   ],
   "source": [
    "list_variable"
   ]
  },
  {
   "cell_type": "code",
   "execution_count": 151,
   "id": "670a6c92-1a69-41a8-b5a5-2943cb85abd4",
   "metadata": {},
   "outputs": [
    {
     "data": {
      "text/plain": [
       "23.44"
      ]
     },
     "execution_count": 151,
     "metadata": {},
     "output_type": "execute_result"
    }
   ],
   "source": [
    "list_variable[3]"
   ]
  },
  {
   "cell_type": "code",
   "execution_count": 152,
   "id": "e4c885cd-4dbe-40e1-9067-f32a7a3a88c7",
   "metadata": {},
   "outputs": [],
   "source": [
    "#Updating a list\n",
    "list_variable[5]=123"
   ]
  },
  {
   "cell_type": "code",
   "execution_count": 153,
   "id": "eb62b504-41ef-4b73-8bfe-d8795ab6f4e1",
   "metadata": {},
   "outputs": [
    {
     "data": {
      "text/plain": [
       "[1, 2, 3, 23.44, 85.4, 123, 3, 1, 2, 3]"
      ]
     },
     "execution_count": 153,
     "metadata": {},
     "output_type": "execute_result"
    }
   ],
   "source": [
    "list_variable"
   ]
  },
  {
   "cell_type": "code",
   "execution_count": 154,
   "id": "9db605d5-8c8e-4337-8000-7fc78c14ea06",
   "metadata": {},
   "outputs": [
    {
     "data": {
      "text/plain": [
       "tuple"
      ]
     },
     "execution_count": 154,
     "metadata": {},
     "output_type": "execute_result"
    }
   ],
   "source": [
    "# Create a TUPLE variable, IMMUTABLE\n",
    "tuple_variable = (1, 2, 3, 23.44, 85.4, 22.1)\n",
    "type(tuple_variable)"
   ]
  },
  {
   "cell_type": "code",
   "execution_count": 155,
   "id": "c06af3e8-0968-4ee2-b87a-3d057030ed19",
   "metadata": {},
   "outputs": [
    {
     "data": {
      "text/plain": [
       "(1, 2, 3, 23.44, 85.4, 22.1)"
      ]
     },
     "execution_count": 155,
     "metadata": {},
     "output_type": "execute_result"
    }
   ],
   "source": [
    "tuple_variable"
   ]
  },
  {
   "cell_type": "code",
   "execution_count": 156,
   "id": "6501aa2f-e7c6-40a5-8eb6-012518e44dae",
   "metadata": {},
   "outputs": [
    {
     "data": {
      "text/plain": [
       "22.1"
      ]
     },
     "execution_count": 156,
     "metadata": {},
     "output_type": "execute_result"
    }
   ],
   "source": [
    "tuple_variable[5]"
   ]
  },
  {
   "cell_type": "code",
   "execution_count": 157,
   "id": "f7be79c3-06d3-4e88-aac9-008f134a1d03",
   "metadata": {},
   "outputs": [],
   "source": [
    "#Cannot update values like LIST in TUPLE!!!!!"
   ]
  },
  {
   "cell_type": "code",
   "execution_count": 158,
   "id": "1724315e-fb5d-4846-a92d-25c89feea44e",
   "metadata": {},
   "outputs": [
    {
     "data": {
      "text/plain": [
       "set"
      ]
     },
     "execution_count": 158,
     "metadata": {},
     "output_type": "execute_result"
    }
   ],
   "source": [
    "# This is creating a SET variable\n",
    "set_variable = {1, 2, 3, 23.44, 85.4, 22.1,3}\n",
    "type(set_variable)"
   ]
  },
  {
   "cell_type": "code",
   "execution_count": 159,
   "id": "f5a37391-f8eb-4bb5-bb32-9f43b0673230",
   "metadata": {},
   "outputs": [
    {
     "data": {
      "text/plain": [
       "{1, 2, 3, 22.1, 23.44, 85.4}"
      ]
     },
     "execution_count": 159,
     "metadata": {},
     "output_type": "execute_result"
    }
   ],
   "source": [
    "set_variable"
   ]
  },
  {
   "cell_type": "code",
   "execution_count": 160,
   "id": "fd48b5a3-a2a3-4dc7-a959-980ca386e211",
   "metadata": {},
   "outputs": [
    {
     "data": {
      "text/plain": [
       "[1, 2, 3, 85.4, 23.44, 123]"
      ]
     },
     "execution_count": 160,
     "metadata": {},
     "output_type": "execute_result"
    }
   ],
   "source": [
    "# Type casting list to set, and then back to list to get rid of duplicates\n",
    "list(set(list_variable)) "
   ]
  },
  {
   "cell_type": "code",
   "execution_count": 161,
   "id": "d95f5044-9cfb-4edd-a060-13c12288bf09",
   "metadata": {},
   "outputs": [
    {
     "data": {
      "text/plain": [
       "dict"
      ]
     },
     "execution_count": 161,
     "metadata": {},
     "output_type": "execute_result"
    }
   ],
   "source": [
    "# Defining a dictionary variable\n",
    "dict_variable = {'name':\"Nicholas\", 'favourite_color':'red', 'favourite_number':44}\n",
    "type(dict_variable)"
   ]
  },
  {
   "cell_type": "code",
   "execution_count": 162,
   "id": "af604947-6943-41fa-8ebc-5786c7e67126",
   "metadata": {},
   "outputs": [
    {
     "data": {
      "text/plain": [
       "'Nicholas'"
      ]
     },
     "execution_count": 162,
     "metadata": {},
     "output_type": "execute_result"
    }
   ],
   "source": [
    "dict_variable['name']"
   ]
  },
  {
   "cell_type": "code",
   "execution_count": 163,
   "id": "e4aa9b98-7b65-4c9e-aa91-647689826f3d",
   "metadata": {},
   "outputs": [
    {
     "data": {
      "text/plain": [
       "44"
      ]
     },
     "execution_count": 163,
     "metadata": {},
     "output_type": "execute_result"
    }
   ],
   "source": [
    "dict_variable['favourite_number']"
   ]
  },
  {
   "cell_type": "code",
   "execution_count": 164,
   "id": "47d1f315-3b41-4f08-8c69-3fb2db44b434",
   "metadata": {},
   "outputs": [
    {
     "data": {
      "text/plain": [
       "(1, 2, 3, 23.44, 85.4, 123, 3, 1, 2, 3)"
      ]
     },
     "execution_count": 164,
     "metadata": {},
     "output_type": "execute_result"
    }
   ],
   "source": [
    "tuple(list_variable)"
   ]
  },
  {
   "cell_type": "markdown",
   "id": "2ba48c11-d7ca-4289-b1a3-e686540f54e4",
   "metadata": {},
   "source": [
    "# 2. Lists"
   ]
  },
  {
   "cell_type": "code",
   "execution_count": 165,
   "id": "2be86bc0-07b0-45ff-a91e-68a78c5e99ba",
   "metadata": {},
   "outputs": [],
   "source": [
    "# Create\n",
    "names = ['neil amstrong', 'buzz alfrin', 'sally ride', 'yuri gagarin', 'elon musk']"
   ]
  },
  {
   "cell_type": "code",
   "execution_count": 166,
   "id": "e2661f99-8325-44f2-a3ea-37de700652ca",
   "metadata": {},
   "outputs": [
    {
     "data": {
      "text/plain": [
       "['neil amstrong', 'buzz alfrin', 'sally ride', 'yuri gagarin', 'elon musk']"
      ]
     },
     "execution_count": 166,
     "metadata": {},
     "output_type": "execute_result"
    }
   ],
   "source": [
    "# Read\n",
    "names"
   ]
  },
  {
   "cell_type": "code",
   "execution_count": 167,
   "id": "912a149b-95c1-4bb1-ae58-c7109d8ccb4f",
   "metadata": {},
   "outputs": [
    {
     "data": {
      "text/plain": [
       "'neil amstrong'"
      ]
     },
     "execution_count": 167,
     "metadata": {},
     "output_type": "execute_result"
    }
   ],
   "source": [
    "# Reading using indexing\n",
    "names[0]"
   ]
  },
  {
   "cell_type": "code",
   "execution_count": 168,
   "id": "596e29d2-3c56-4133-a027-31c6a03af94a",
   "metadata": {},
   "outputs": [
    {
     "data": {
      "text/plain": [
       "'elon musk'"
      ]
     },
     "execution_count": 168,
     "metadata": {},
     "output_type": "execute_result"
    }
   ],
   "source": [
    "names[-1]"
   ]
  },
  {
   "cell_type": "code",
   "execution_count": 169,
   "id": "f85a1962-4d57-48fd-950a-a10252460f44",
   "metadata": {},
   "outputs": [
    {
     "data": {
      "text/plain": [
       "5"
      ]
     },
     "execution_count": 169,
     "metadata": {},
     "output_type": "execute_result"
    }
   ],
   "source": [
    "len(names)"
   ]
  },
  {
   "cell_type": "code",
   "execution_count": 170,
   "id": "de3c252a-e940-4810-a4b8-9c8b719864bf",
   "metadata": {},
   "outputs": [
    {
     "data": {
      "text/plain": [
       "['neil amstrong',\n",
       " 'buzz alfrin',\n",
       " 'sally ride',\n",
       " 'yuri gagarin',\n",
       " 'lukman nur hafiz']"
      ]
     },
     "execution_count": 170,
     "metadata": {},
     "output_type": "execute_result"
    }
   ],
   "source": [
    "# Update\n",
    "names[-1] = 'lukman nur hafiz'\n",
    "names"
   ]
  },
  {
   "cell_type": "code",
   "execution_count": 171,
   "id": "de03aaa2-0d36-48bf-b714-254be0eb3b91",
   "metadata": {},
   "outputs": [],
   "source": [
    "names.append('elon musk')"
   ]
  },
  {
   "cell_type": "code",
   "execution_count": 172,
   "id": "e117e2df-e49e-4c3b-ac31-30f6979d74de",
   "metadata": {},
   "outputs": [
    {
     "data": {
      "text/plain": [
       "['neil amstrong',\n",
       " 'buzz alfrin',\n",
       " 'sally ride',\n",
       " 'yuri gagarin',\n",
       " 'lukman nur hafiz',\n",
       " 'elon musk']"
      ]
     },
     "execution_count": 172,
     "metadata": {},
     "output_type": "execute_result"
    }
   ],
   "source": [
    "names"
   ]
  },
  {
   "cell_type": "code",
   "execution_count": 173,
   "id": "6cc8aa1c-8db1-4f4a-b428-bd0b3a1854bf",
   "metadata": {},
   "outputs": [],
   "source": [
    "names.insert(0, 'richard branson')"
   ]
  },
  {
   "cell_type": "code",
   "execution_count": 174,
   "id": "7f4e6dd3-b118-4200-8132-3ff34f5be50a",
   "metadata": {},
   "outputs": [
    {
     "data": {
      "text/plain": [
       "['richard branson',\n",
       " 'neil amstrong',\n",
       " 'buzz alfrin',\n",
       " 'sally ride',\n",
       " 'yuri gagarin',\n",
       " 'lukman nur hafiz',\n",
       " 'elon musk']"
      ]
     },
     "execution_count": 174,
     "metadata": {},
     "output_type": "execute_result"
    }
   ],
   "source": [
    "names"
   ]
  },
  {
   "cell_type": "code",
   "execution_count": 175,
   "id": "83ca6499-4045-44ba-900f-336d0fbab589",
   "metadata": {},
   "outputs": [],
   "source": [
    "# Delete\n",
    "del names[-2]"
   ]
  },
  {
   "cell_type": "code",
   "execution_count": 176,
   "id": "b1989066-7680-4ef9-81d8-606f3fbc7b48",
   "metadata": {},
   "outputs": [
    {
     "data": {
      "text/plain": [
       "['richard branson',\n",
       " 'neil amstrong',\n",
       " 'buzz alfrin',\n",
       " 'sally ride',\n",
       " 'yuri gagarin',\n",
       " 'elon musk']"
      ]
     },
     "execution_count": 176,
     "metadata": {},
     "output_type": "execute_result"
    }
   ],
   "source": [
    "names"
   ]
  },
  {
   "cell_type": "markdown",
   "id": "03f4aac7-0af8-4c26-8441-bb69d124cf57",
   "metadata": {},
   "source": [
    "# 3. Dictionaries"
   ]
  },
  {
   "cell_type": "code",
   "execution_count": 177,
   "id": "2288b923-bef2-421e-9372-aa3279cbb3c5",
   "metadata": {},
   "outputs": [],
   "source": [
    "# Create\n",
    "astronaut = {\n",
    "    'name':'elon musk',\n",
    "    'suit_size':'large',\n",
    "    'allergies':'peanuts'\n",
    "}"
   ]
  },
  {
   "cell_type": "code",
   "execution_count": 178,
   "id": "580e44a6-bdce-4aa3-bdb8-2ddd181776dc",
   "metadata": {},
   "outputs": [
    {
     "data": {
      "text/plain": [
       "{'name': 'elon musk', 'suit_size': 'large', 'allergies': 'peanuts'}"
      ]
     },
     "execution_count": 178,
     "metadata": {},
     "output_type": "execute_result"
    }
   ],
   "source": [
    "# Read\n",
    "astronaut"
   ]
  },
  {
   "cell_type": "code",
   "execution_count": 179,
   "id": "bda37801-b20a-40b1-890d-973807586924",
   "metadata": {},
   "outputs": [
    {
     "data": {
      "text/plain": [
       "'large'"
      ]
     },
     "execution_count": 179,
     "metadata": {},
     "output_type": "execute_result"
    }
   ],
   "source": [
    "astronaut['suit_size']"
   ]
  },
  {
   "cell_type": "code",
   "execution_count": 180,
   "id": "62610468-e411-4108-9d1a-83ee812a0eb9",
   "metadata": {},
   "outputs": [
    {
     "data": {
      "text/plain": [
       "dict_keys(['name', 'suit_size', 'allergies'])"
      ]
     },
     "execution_count": 180,
     "metadata": {},
     "output_type": "execute_result"
    }
   ],
   "source": [
    "astronaut.keys()"
   ]
  },
  {
   "cell_type": "code",
   "execution_count": 181,
   "id": "9b272eed-a2c4-4b9b-9fe0-4700437503db",
   "metadata": {},
   "outputs": [
    {
     "data": {
      "text/plain": [
       "dict_values(['elon musk', 'large', 'peanuts'])"
      ]
     },
     "execution_count": 181,
     "metadata": {},
     "output_type": "execute_result"
    }
   ],
   "source": [
    "astronaut.values()"
   ]
  },
  {
   "cell_type": "code",
   "execution_count": 182,
   "id": "a3f20705-4d5c-490f-bf56-cb2ceeb0fb6e",
   "metadata": {},
   "outputs": [],
   "source": [
    "# Update"
   ]
  },
  {
   "cell_type": "code",
   "execution_count": 183,
   "id": "8e584c4e-cf7e-4b71-b0eb-4c576b59daea",
   "metadata": {},
   "outputs": [],
   "source": [
    "astronaut['allergies']='mango'"
   ]
  },
  {
   "cell_type": "code",
   "execution_count": 184,
   "id": "6d89375b-6045-42da-94b9-93ad1adb4a76",
   "metadata": {},
   "outputs": [
    {
     "data": {
      "text/plain": [
       "{'name': 'elon musk', 'suit_size': 'large', 'allergies': 'mango'}"
      ]
     },
     "execution_count": 184,
     "metadata": {},
     "output_type": "execute_result"
    }
   ],
   "source": [
    "astronaut"
   ]
  },
  {
   "cell_type": "code",
   "execution_count": 185,
   "id": "6b01ecaf-4476-4230-a393-3ad36d568207",
   "metadata": {},
   "outputs": [],
   "source": [
    "astronaut['space_ship'] = 'galactic 1'"
   ]
  },
  {
   "cell_type": "code",
   "execution_count": 186,
   "id": "602ab4cc-f808-4140-95b2-daeb7a0b4cc5",
   "metadata": {},
   "outputs": [
    {
     "data": {
      "text/plain": [
       "{'name': 'elon musk',\n",
       " 'suit_size': 'large',\n",
       " 'allergies': 'mango',\n",
       " 'space_ship': 'galactic 1'}"
      ]
     },
     "execution_count": 186,
     "metadata": {},
     "output_type": "execute_result"
    }
   ],
   "source": [
    "astronaut"
   ]
  },
  {
   "cell_type": "code",
   "execution_count": 187,
   "id": "7bc5b334-86b8-4597-9c16-e45e0bb62610",
   "metadata": {},
   "outputs": [],
   "source": [
    "# Delete"
   ]
  },
  {
   "cell_type": "code",
   "execution_count": 188,
   "id": "44c00ddf-b88b-49b1-ac6e-cd011a2f626b",
   "metadata": {},
   "outputs": [],
   "source": [
    "del astronaut['space_ship']"
   ]
  },
  {
   "cell_type": "code",
   "execution_count": 189,
   "id": "a36ff4c2-f54d-45d2-9469-fd90abf8402c",
   "metadata": {},
   "outputs": [
    {
     "data": {
      "text/plain": [
       "{'name': 'elon musk', 'suit_size': 'large', 'allergies': 'mango'}"
      ]
     },
     "execution_count": 189,
     "metadata": {},
     "output_type": "execute_result"
    }
   ],
   "source": [
    "astronaut"
   ]
  },
  {
   "cell_type": "markdown",
   "id": "4060a77d-55cc-48a1-babe-4ed77ba2e3c2",
   "metadata": {},
   "source": [
    "# 4. Conditions and Logic"
   ]
  },
  {
   "cell_type": "code",
   "execution_count": 190,
   "id": "4c20d0a5-b2e0-47b3-92c7-f0100d31dd0c",
   "metadata": {},
   "outputs": [
    {
     "name": "stdout",
     "output_type": "stream",
     "text": [
      "sup Neil Armstrong\n"
     ]
    }
   ],
   "source": [
    "# Applying logic using the IF statement\n",
    "name = 'Neil Armstrong'\n",
    "\n",
    "if name == 'Neil Armstrong':\n",
    "    print ('sup ' + name)"
   ]
  },
  {
   "cell_type": "code",
   "execution_count": 191,
   "id": "94b5ec4a-d833-4343-8309-e4c930ad16d9",
   "metadata": {},
   "outputs": [
    {
     "name": "stdout",
     "output_type": "stream",
     "text": [
      "False\n"
     ]
    }
   ],
   "source": [
    "probability = 0.1\n",
    "\n",
    "if probability >= 0.5:\n",
    "    print(True)\n",
    "elif probability < 0:\n",
    "    print('Check your probability')\n",
    "else:\n",
    "    print(False)"
   ]
  },
  {
   "cell_type": "code",
   "execution_count": 192,
   "id": "859b7922-4b4e-41d6-8c4f-d7f595766079",
   "metadata": {},
   "outputs": [
    {
     "name": "stdout",
     "output_type": "stream",
     "text": [
      "Elon's here\n"
     ]
    }
   ],
   "source": [
    "# Create a list of names\n",
    "names = ['neil amstrong', 'buzz aldrin', 'sally ride', 'yuri gagarin', 'elon musk']\n",
    "\n",
    "if 'elon musk' in names:\n",
    "    print('Elon\\'s here')"
   ]
  },
  {
   "cell_type": "markdown",
   "id": "b5546c47-d72e-4a1e-acbc-cddb81129d64",
   "metadata": {},
   "source": [
    "# 5. Loops"
   ]
  },
  {
   "cell_type": "code",
   "execution_count": 193,
   "id": "7899d19b-3ff1-404a-87cb-b14056b355f2",
   "metadata": {},
   "outputs": [
    {
     "name": "stdout",
     "output_type": "stream",
     "text": [
      "neil amstrong\n",
      "Pleased to have you here!\n",
      "\n",
      "buzz aldrin\n",
      "Hi buzz aldrin\n",
      "\n",
      "sally ride\n",
      "Pleased to have you here!\n",
      "\n",
      "yuri gagarin\n",
      "Hi yuri gagarin\n",
      "\n"
     ]
    }
   ],
   "source": [
    "# For loop\n",
    "for name in names:\n",
    "    print(name)\n",
    "    if name == 'buzz aldrin':\n",
    "        print('Hi ' + name + '\\n')\n",
    "        # Next value in the loop\n",
    "        continue\n",
    "    elif name == 'yuri gagarin':\n",
    "        print('Hi ' + name + '\\n')\n",
    "        # Break statement stops the loop\n",
    "        break\n",
    "    else:\n",
    "        # Placeholder to do nothing\n",
    "        pass\n",
    "\n",
    "    # Outside of if statement block\n",
    "    print('Pleased to have you here!\\n')"
   ]
  },
  {
   "cell_type": "code",
   "execution_count": 194,
   "id": "dd084804-06d4-4f88-ab7e-fdbfc31af909",
   "metadata": {},
   "outputs": [
    {
     "name": "stdout",
     "output_type": "stream",
     "text": [
      "0\n",
      "1\n",
      "2\n",
      "3\n",
      "4\n",
      "5\n",
      "6\n",
      "7\n",
      "8\n",
      "9\n"
     ]
    }
   ],
   "source": [
    "# Loop x number of times\n",
    "for idx in range(10):\n",
    "    print(idx)"
   ]
  },
  {
   "cell_type": "code",
   "execution_count": 195,
   "id": "2d320288-8e99-4d9b-88ae-638d78433589",
   "metadata": {},
   "outputs": [
    {
     "name": "stdout",
     "output_type": "stream",
     "text": [
      "1\n",
      "2\n",
      "3\n",
      "4\n",
      "5\n",
      "6\n",
      "7\n",
      "8\n",
      "9\n",
      "10\n"
     ]
    }
   ],
   "source": [
    "for idx in range(1, 11):\n",
    "    print(idx)"
   ]
  },
  {
   "cell_type": "code",
   "execution_count": 196,
   "id": "e0e60bd1-3cf5-41e3-8c9d-d894c2c4472e",
   "metadata": {},
   "outputs": [
    {
     "name": "stdout",
     "output_type": "stream",
     "text": [
      "Shuttle 1 launched\n",
      "Shuttle 2 launched\n",
      "Shuttle 3 launched\n",
      "Shuttle 4 launched\n",
      "Shuttle 5 launched\n",
      "All shuttles launched\n"
     ]
    }
   ],
   "source": [
    "# Create launch variables\n",
    "launched_shuttles = 0\n",
    "total_shuttles = 5\n",
    "\n",
    "# Create a while loop\n",
    "while True:\n",
    "    # String formatting - injecting values into the string\n",
    "    print('Shuttle {} launched'.format(launched_shuttles+1))\n",
    "    launched_shuttles += 1\n",
    "\n",
    "    if launched_shuttles == total_shuttles:\n",
    "        print('All shuttles launched')\n",
    "        break"
   ]
  },
  {
   "cell_type": "code",
   "execution_count": 197,
   "id": "eb3406f5-1150-499a-8ce6-74e4728b29da",
   "metadata": {},
   "outputs": [],
   "source": [
    "# Loop through dictionary\n",
    "\n",
    "astronaut = {\n",
    "    'name':'elon musk',\n",
    "    'suit_size':'large',\n",
    "    'allergies':'peanuts'\n",
    "}"
   ]
  },
  {
   "cell_type": "code",
   "execution_count": 198,
   "id": "a72f7c3d-8ab0-432b-a656-1142c0ccf40f",
   "metadata": {},
   "outputs": [
    {
     "data": {
      "text/plain": [
       "dict_keys(['name', 'suit_size', 'allergies'])"
      ]
     },
     "execution_count": 198,
     "metadata": {},
     "output_type": "execute_result"
    }
   ],
   "source": [
    "# Accessing a dictionary keys\n",
    "astronaut.keys()"
   ]
  },
  {
   "cell_type": "code",
   "execution_count": 199,
   "id": "de32c1f7-4229-4154-8dc0-988793156358",
   "metadata": {},
   "outputs": [
    {
     "name": "stdout",
     "output_type": "stream",
     "text": [
      "name\n",
      "suit_size\n",
      "allergies\n"
     ]
    }
   ],
   "source": [
    "# Loop through keys in a dictionary\n",
    "for key in astronaut.keys():\n",
    "    print(key)"
   ]
  },
  {
   "cell_type": "code",
   "execution_count": 200,
   "id": "b55f4f97-f808-478f-985c-c48e5b364241",
   "metadata": {},
   "outputs": [
    {
     "data": {
      "text/plain": [
       "dict_values(['elon musk', 'large', 'peanuts'])"
      ]
     },
     "execution_count": 200,
     "metadata": {},
     "output_type": "execute_result"
    }
   ],
   "source": [
    "# Accessing a dcitionary values\n",
    "astronaut.values()"
   ]
  },
  {
   "cell_type": "code",
   "execution_count": 201,
   "id": "e8dc2a6a-b59d-4ea8-a01f-235b2aa2919e",
   "metadata": {},
   "outputs": [
    {
     "name": "stdout",
     "output_type": "stream",
     "text": [
      "elon musk\n",
      "large\n",
      "peanuts\n"
     ]
    }
   ],
   "source": [
    "# Loop through values in a dictionary\n",
    "for values in astronaut.values():\n",
    "    print(values)"
   ]
  },
  {
   "cell_type": "code",
   "execution_count": 202,
   "id": "1842aedc-1402-4c08-888f-ea72dae5f1ef",
   "metadata": {},
   "outputs": [
    {
     "name": "stdout",
     "output_type": "stream",
     "text": [
      "name:elon musk\n",
      "suit_size:large\n",
      "allergies:peanuts\n"
     ]
    }
   ],
   "source": [
    "# Loop through keys and values at the same time\n",
    "\n",
    "for key, value in astronaut.items():\n",
    "    print(key + ':' + value)"
   ]
  },
  {
   "cell_type": "code",
   "execution_count": 203,
   "id": "21714145-dbc8-4623-a5bd-8c323319e1fc",
   "metadata": {},
   "outputs": [],
   "source": [
    "# List comprehension\n",
    "new_list=[name.title() for name in names]"
   ]
  },
  {
   "cell_type": "code",
   "execution_count": 204,
   "id": "f486cdd8-5762-4964-a7c6-877541aea074",
   "metadata": {},
   "outputs": [
    {
     "data": {
      "text/plain": [
       "['Neil Amstrong', 'Buzz Aldrin', 'Sally Ride', 'Yuri Gagarin', 'Elon Musk']"
      ]
     },
     "execution_count": 204,
     "metadata": {},
     "output_type": "execute_result"
    }
   ],
   "source": [
    "new_list"
   ]
  },
  {
   "cell_type": "code",
   "execution_count": 205,
   "id": "e543f39f-7be8-4e03-ac4d-edeed0f5fe9d",
   "metadata": {},
   "outputs": [
    {
     "data": {
      "text/plain": [
       "['neil amstrong', 'buzz aldrin', 'sally ride', 'yuri gagarin', 'elon musk']"
      ]
     },
     "execution_count": 205,
     "metadata": {},
     "output_type": "execute_result"
    }
   ],
   "source": [
    "names"
   ]
  },
  {
   "cell_type": "code",
   "execution_count": 206,
   "id": "cbc4d729-3323-46fe-bd56-ba6585724a5c",
   "metadata": {},
   "outputs": [],
   "source": [
    "# .title() untuk besarkan huruf depan"
   ]
  },
  {
   "cell_type": "markdown",
   "id": "39b3e235-3f2e-4e39-8fe4-8c37d7c4c7f2",
   "metadata": {},
   "source": [
    "# 6. Functions"
   ]
  },
  {
   "cell_type": "code",
   "execution_count": 207,
   "id": "230723ec-2985-40ae-b742-5d781367215f",
   "metadata": {},
   "outputs": [],
   "source": [
    "# Defining a function in Python\n",
    "def launchpad_welcome():\n",
    "    print('hello')\n",
    "    print(1+2)\n",
    "    print(1+4)"
   ]
  },
  {
   "cell_type": "code",
   "execution_count": 208,
   "id": "45bbf47a-0230-4955-a265-689e16f380c8",
   "metadata": {},
   "outputs": [
    {
     "name": "stdout",
     "output_type": "stream",
     "text": [
      "hello\n",
      "3\n",
      "5\n"
     ]
    }
   ],
   "source": [
    "# Running our function\n",
    "launchpad_welcome()"
   ]
  },
  {
   "cell_type": "code",
   "execution_count": 209,
   "id": "940a7180-f2c8-4a44-8b67-19e0a7dc8c0f",
   "metadata": {},
   "outputs": [],
   "source": [
    "names=['neil armstrong', 'buzz aldrin', 'sally ride', 'yuri gagarin', 'elon musk']"
   ]
  },
  {
   "cell_type": "code",
   "execution_count": 210,
   "id": "b4a8f750-0579-4ea5-83c8-5bcac3c2d1e3",
   "metadata": {},
   "outputs": [],
   "source": [
    "# Positional Arguments\n",
    "def custom_welcome(name):\n",
    "    print('Welcome {}'.format(name))"
   ]
  },
  {
   "cell_type": "code",
   "execution_count": 211,
   "id": "33f6c3d9-cbf4-4769-937e-90b0f861208d",
   "metadata": {},
   "outputs": [
    {
     "name": "stdout",
     "output_type": "stream",
     "text": [
      "Welcome neil armstrong\n",
      "Welcome buzz aldrin\n",
      "Welcome sally ride\n",
      "Welcome yuri gagarin\n",
      "Welcome elon musk\n"
     ]
    }
   ],
   "source": [
    "for name in names:\n",
    "    custom_welcome(name)"
   ]
  },
  {
   "cell_type": "code",
   "execution_count": 212,
   "id": "5da5d051-4443-4ba0-b58a-aeb9e76f24b5",
   "metadata": {},
   "outputs": [],
   "source": [
    "# Multiple Positional Arguments - POSITION IS IMPORTANT\n",
    "def custom_welcome_to_ship(name, space_ship):\n",
    "    print('Welcome {} to the {}'.format(name, space_ship))"
   ]
  },
  {
   "cell_type": "code",
   "execution_count": 213,
   "id": "f2ef1cc9-5502-42ff-9b89-f684cf3e6fc6",
   "metadata": {},
   "outputs": [
    {
     "name": "stdout",
     "output_type": "stream",
     "text": [
      "Welcome Lukman to the Galactic 1\n"
     ]
    }
   ],
   "source": [
    "custom_welcome_to_ship('Lukman', 'Galactic 1')"
   ]
  },
  {
   "cell_type": "code",
   "execution_count": 214,
   "id": "1940fb7f-cc0e-4bd3-868b-dd13aff63dc9",
   "metadata": {},
   "outputs": [],
   "source": [
    "space_ships = ['Galactic 1', 'Galactic 2', 'USS Voyager', 'Soyuz 1', 'Apple Space Ship']"
   ]
  },
  {
   "cell_type": "code",
   "execution_count": 215,
   "id": "d5ce5d48-dcf0-45d5-9974-e63d1aac8bb8",
   "metadata": {},
   "outputs": [
    {
     "name": "stdout",
     "output_type": "stream",
     "text": [
      "Welcome neil armstrong to the Galactic 1\n",
      "Welcome buzz aldrin to the Galactic 2\n",
      "Welcome sally ride to the USS Voyager\n",
      "Welcome yuri gagarin to the Soyuz 1\n",
      "Welcome elon musk to the Apple Space Ship\n"
     ]
    }
   ],
   "source": [
    "# Use the enumerate function to get the positional index AND the name\n",
    "for idx,name in enumerate(names):\n",
    "    ship = space_ships[idx]\n",
    "    custom_welcome_to_ship(name, ship)"
   ]
  },
  {
   "cell_type": "code",
   "execution_count": 216,
   "id": "d3b2712a-1180-4324-b00e-b027a1ef220d",
   "metadata": {},
   "outputs": [],
   "source": [
    "# This is using keyword arguments\n",
    "def space_suit(color='Blue'):\n",
    "    print('Your space suit is {}'.format(color))"
   ]
  },
  {
   "cell_type": "code",
   "execution_count": 217,
   "id": "99de0785-68fd-4a73-9dae-0127c080a01b",
   "metadata": {},
   "outputs": [
    {
     "name": "stdout",
     "output_type": "stream",
     "text": [
      "Your space suit is Red\n"
     ]
    }
   ],
   "source": [
    "space_suit(color='Red')"
   ]
  },
  {
   "cell_type": "code",
   "execution_count": 218,
   "id": "c602fe8a-09af-4ce8-97b5-4ace36d31ed3",
   "metadata": {},
   "outputs": [],
   "source": [
    "# Multiple keyword arguments\n",
    "def space_suit_welcome(name, space_ship, color='Blue', allergies='None'):\n",
    "    print('Welcome {} to the {}, your space suit is {}, you have {} allergies'.format(name, space_ship, color, allergies))"
   ]
  },
  {
   "cell_type": "code",
   "execution_count": 219,
   "id": "1523f2c8-2d6c-44b3-9044-3a513abd22a7",
   "metadata": {},
   "outputs": [
    {
     "name": "stdout",
     "output_type": "stream",
     "text": [
      "Welcome Elon Musk to the Apple iShip, your space suit is Red, you have Peanuts allergies\n"
     ]
    }
   ],
   "source": [
    "space_suit_welcome('Elon Musk', 'Apple iShip', color='Red', allergies='Peanuts')"
   ]
  },
  {
   "cell_type": "code",
   "execution_count": 220,
   "id": "a9c55da9-67ae-4a99-9ea6-523697f8efd7",
   "metadata": {},
   "outputs": [],
   "source": [
    "# Setup a return statement\n",
    "def space_suit_welcome_with_return(name, space_ship, color='Blue', allergies='None'):\n",
    "    return 'Welcome {} to the {}, your space suit is {}, you have {} allergies'.format(name, space_ship, color, allergies)"
   ]
  },
  {
   "cell_type": "code",
   "execution_count": 221,
   "id": "4737f0f0-846b-4a3f-8c54-19c900dc9882",
   "metadata": {},
   "outputs": [
    {
     "data": {
      "text/plain": [
       "'Welcome Elon Musk to the Apple iShip, your space suit is Red, you have Peanuts allergies'"
      ]
     },
     "execution_count": 221,
     "metadata": {},
     "output_type": "execute_result"
    }
   ],
   "source": [
    "space_suit_welcome_with_return('Elon Musk', 'Apple iShip', color='Red', allergies='Peanuts')"
   ]
  },
  {
   "cell_type": "code",
   "execution_count": 222,
   "id": "17ca52e8-1b3c-4a38-acf5-6e4bd1259ef1",
   "metadata": {},
   "outputs": [],
   "source": [
    "# Example of storing results of the function inside of the variable\n",
    "welcome = space_suit_welcome_with_return('Elon Musk', 'Apple iShip', color='Red', allergies='Peanuts')"
   ]
  },
  {
   "cell_type": "code",
   "execution_count": 223,
   "id": "e35fa13d-7cb0-4106-92c4-7d6813bc6511",
   "metadata": {},
   "outputs": [
    {
     "name": "stdout",
     "output_type": "stream",
     "text": [
      "Welcome Elon Musk to the Apple iShip, your space suit is Red, you have Peanuts allergies\n"
     ]
    }
   ],
   "source": [
    "print(welcome)"
   ]
  },
  {
   "cell_type": "code",
   "execution_count": 224,
   "id": "3fa6a6de-bae8-4770-a6a3-c4e8e99a377b",
   "metadata": {},
   "outputs": [],
   "source": [
    "# lambda function - anonymous function\n",
    "# needs to be in a single line\n",
    "pi = lambda x: x*3.142"
   ]
  },
  {
   "cell_type": "code",
   "execution_count": 225,
   "id": "db3c6868-bf9f-448f-81d2-730b91e566ef",
   "metadata": {},
   "outputs": [
    {
     "data": {
      "text/plain": [
       "6.284"
      ]
     },
     "execution_count": 225,
     "metadata": {},
     "output_type": "execute_result"
    }
   ],
   "source": [
    "pi(2)"
   ]
  },
  {
   "cell_type": "markdown",
   "id": "0ae09067-2f0a-4679-b08b-e970925880cb",
   "metadata": {},
   "source": [
    "# 7. Classes"
   ]
  },
  {
   "cell_type": "code",
   "execution_count": 226,
   "id": "380d4872-df80-423c-afec-528f5803a2e0",
   "metadata": {},
   "outputs": [],
   "source": [
    "# Classes as boilerplates for objects\n",
    "# Basically, a function that is attached to a class, and has its own attributes/properties\n",
    "class Person():\n",
    "    # The method that runs as soon as you create a class - initialise\n",
    "    # self macam this dalam java\n",
    "    def __init__(self, name, age, color):\n",
    "        # Create some attributes for our person class\n",
    "        self.name = name\n",
    "        self.age = age\n",
    "        self.color = color\n",
    "\n",
    "    # Methods are similar to functions, the core difference is that a method must be called on an object(which is an instance of a class).\n",
    "    # Date of biorth method\n",
    "    def year_of_birth(self):\n",
    "        return 2024-self.age\n",
    "\n",
    "    # Projected age\n",
    "    def project_age(self, years=5):\n",
    "        return self.age+years"
   ]
  },
  {
   "cell_type": "code",
   "execution_count": 227,
   "id": "a82323cc-ac6c-4823-bba3-bae3be014bda",
   "metadata": {},
   "outputs": [],
   "source": [
    "new_person = Person('Elon Musk', 38, 'blue')"
   ]
  },
  {
   "cell_type": "code",
   "execution_count": 228,
   "id": "07356052-b856-4d9a-a163-6fcfb6b29dda",
   "metadata": {},
   "outputs": [
    {
     "data": {
      "text/plain": [
       "'Elon Musk'"
      ]
     },
     "execution_count": 228,
     "metadata": {},
     "output_type": "execute_result"
    }
   ],
   "source": [
    "# Accessing a class attribute\n",
    "new_person.name"
   ]
  },
  {
   "cell_type": "code",
   "execution_count": 229,
   "id": "5abe238b-2ffe-4940-96a0-a3e24f5a3e94",
   "metadata": {},
   "outputs": [
    {
     "data": {
      "text/plain": [
       "38"
      ]
     },
     "execution_count": 229,
     "metadata": {},
     "output_type": "execute_result"
    }
   ],
   "source": [
    "new_person.age"
   ]
  },
  {
   "cell_type": "code",
   "execution_count": 230,
   "id": "d450ac84-0742-43af-8fd1-eccc0c9ace45",
   "metadata": {},
   "outputs": [
    {
     "data": {
      "text/plain": [
       "1986"
      ]
     },
     "execution_count": 230,
     "metadata": {},
     "output_type": "execute_result"
    }
   ],
   "source": [
    "# Run a method\n",
    "# Accessing a method must have parentheses ()\n",
    "new_person.year_of_birth()"
   ]
  },
  {
   "cell_type": "code",
   "execution_count": 231,
   "id": "c5b66cd6-6216-41bc-87c7-36abf718a34e",
   "metadata": {},
   "outputs": [
    {
     "data": {
      "text/plain": [
       "48"
      ]
     },
     "execution_count": 231,
     "metadata": {},
     "output_type": "execute_result"
    }
   ],
   "source": [
    "# Run a method with a keyword argument\n",
    "new_person.project_age(years=10)"
   ]
  },
  {
   "cell_type": "code",
   "execution_count": 232,
   "id": "e50b59f6-a5a4-4779-aaba-309bc1da1d45",
   "metadata": {},
   "outputs": [
    {
     "data": {
      "text/plain": [
       "43"
      ]
     },
     "execution_count": 232,
     "metadata": {},
     "output_type": "execute_result"
    }
   ],
   "source": [
    "new_person.project_age()"
   ]
  },
  {
   "cell_type": "markdown",
   "id": "38c52e0c-c67f-47a3-8955-a606dcbcbba3",
   "metadata": {},
   "source": [
    "## 7.1 Inheritance\n",
    "- PARENT is the class passing down attributes and methods\n",
    "- CHILD is the class inheriting the methods and attributes\n",
    "- Inheriting from parent classes aloows you to make your code modular as you're extending an existing remplate (parent class) rather than redefining all the properties and methos all over again."
   ]
  },
  {
   "cell_type": "code",
   "execution_count": 233,
   "id": "a85c35ee-18ec-407c-972a-f9f98cb2ebda",
   "metadata": {},
   "outputs": [],
   "source": [
    "# Create a child class\n",
    "class Astronaut(Person):\n",
    "\n",
    "    # Define initialization function\n",
    "    def __init__(self, name, age, color, mission_length_months):\n",
    "        # This is what gives us inheritance - SUPER METHOD\n",
    "        super().__init__(name, age, color)\n",
    "        self.mission_length_months = mission_length_months\n",
    "\n",
    "    # Method for calculating age on return\n",
    "    def age_on_return(self):\n",
    "        return self.project_age(self.mission_length_months/12)\n",
    "        "
   ]
  },
  {
   "cell_type": "code",
   "execution_count": 234,
   "id": "77aaa677-805b-48cf-aad2-b630b43c5b36",
   "metadata": {},
   "outputs": [],
   "source": [
    "new_astronaut = Astronaut('Hafiz', 22, 'pink', 48)"
   ]
  },
  {
   "cell_type": "code",
   "execution_count": 235,
   "id": "60607374-0f04-4a50-a262-a5a96dc85f42",
   "metadata": {},
   "outputs": [
    {
     "data": {
      "text/plain": [
       "22"
      ]
     },
     "execution_count": 235,
     "metadata": {},
     "output_type": "execute_result"
    }
   ],
   "source": [
    "# Access parent like attribute\n",
    "new_astronaut.age"
   ]
  },
  {
   "cell_type": "code",
   "execution_count": 236,
   "id": "4368954c-c9ff-47e8-9537-84e0d9ad7a2c",
   "metadata": {},
   "outputs": [
    {
     "data": {
      "text/plain": [
       "2002"
      ]
     },
     "execution_count": 236,
     "metadata": {},
     "output_type": "execute_result"
    }
   ],
   "source": [
    "new_astronaut.year_of_birth()"
   ]
  },
  {
   "cell_type": "code",
   "execution_count": 237,
   "id": "8a6c87b9-7bf1-44e4-96c9-c9aae49cfffa",
   "metadata": {},
   "outputs": [
    {
     "data": {
      "text/plain": [
       "26.0"
      ]
     },
     "execution_count": 237,
     "metadata": {},
     "output_type": "execute_result"
    }
   ],
   "source": [
    "new_astronaut.age_on_return()"
   ]
  },
  {
   "cell_type": "markdown",
   "id": "ee536517-6737-433c-8736-2f28c8477fe1",
   "metadata": {},
   "source": [
    "# 8. Modules\n",
    "- Importing from modules keeps your code cleaner, makes it more modular and reduces the need to redefine classes or functions repeatedly throughout projects"
   ]
  },
  {
   "cell_type": "code",
   "execution_count": 238,
   "id": "08546231-bc0c-4db6-8337-4e3c910aff5e",
   "metadata": {},
   "outputs": [],
   "source": [
    "# Import launch codes helper\n",
    "from helpers import launch_codes"
   ]
  },
  {
   "cell_type": "code",
   "execution_count": 239,
   "id": "09b5ee5f-d076-45bf-ae1a-296e41840b69",
   "metadata": {},
   "outputs": [
    {
     "data": {
      "text/plain": [
       "123456789"
      ]
     },
     "execution_count": 239,
     "metadata": {},
     "output_type": "execute_result"
    }
   ],
   "source": [
    "launch_codes()"
   ]
  },
  {
   "cell_type": "markdown",
   "id": "608188fe-168b-4f64-830b-a73228ef1d83",
   "metadata": {},
   "source": [
    "# 9. Working with Packages\n",
    "- API stands for application programming interface. You'll frequently have to interact with APIs to grab data or work with systems\n",
    "- Remote URL that allows you to call it and return specific values"
   ]
  },
  {
   "cell_type": "code",
   "execution_count": 240,
   "id": "3e03250d-f20e-4683-af4d-e86a58654883",
   "metadata": {},
   "outputs": [],
   "source": [
    "#pip install requests"
   ]
  },
  {
   "cell_type": "code",
   "execution_count": 241,
   "id": "2172230d-6601-4d0b-bea3-84b06fa0c4b7",
   "metadata": {
    "scrolled": true
   },
   "outputs": [],
   "source": [
    "#!pip list"
   ]
  },
  {
   "cell_type": "code",
   "execution_count": 242,
   "id": "f7c36cf3-e9a5-4507-9cfc-d280fc46fe34",
   "metadata": {},
   "outputs": [],
   "source": [
    "# Import requests into notebook\n",
    "import requests"
   ]
  },
  {
   "cell_type": "code",
   "execution_count": 243,
   "id": "d30f41eb-64ea-4b20-8236-eae767a7b8ef",
   "metadata": {},
   "outputs": [
    {
     "data": {
      "text/plain": [
       "\u001b[1;31mSignature:\u001b[0m \u001b[0mrequests\u001b[0m\u001b[1;33m.\u001b[0m\u001b[0mget\u001b[0m\u001b[1;33m(\u001b[0m\u001b[0murl\u001b[0m\u001b[1;33m,\u001b[0m \u001b[0mparams\u001b[0m\u001b[1;33m=\u001b[0m\u001b[1;32mNone\u001b[0m\u001b[1;33m,\u001b[0m \u001b[1;33m**\u001b[0m\u001b[0mkwargs\u001b[0m\u001b[1;33m)\u001b[0m\u001b[1;33m\u001b[0m\u001b[1;33m\u001b[0m\u001b[0m\n",
       "\u001b[1;31mSource:\u001b[0m   \n",
       "\u001b[1;32mdef\u001b[0m \u001b[0mget\u001b[0m\u001b[1;33m(\u001b[0m\u001b[0murl\u001b[0m\u001b[1;33m,\u001b[0m \u001b[0mparams\u001b[0m\u001b[1;33m=\u001b[0m\u001b[1;32mNone\u001b[0m\u001b[1;33m,\u001b[0m \u001b[1;33m**\u001b[0m\u001b[0mkwargs\u001b[0m\u001b[1;33m)\u001b[0m\u001b[1;33m:\u001b[0m\u001b[1;33m\n",
       "\u001b[0m    \u001b[1;34mr\"\"\"Sends a GET request.\n",
       "\n",
       "    :param url: URL for the new :class:`Request` object.\n",
       "    :param params: (optional) Dictionary, list of tuples or bytes to send\n",
       "        in the query string for the :class:`Request`.\n",
       "    :param \\*\\*kwargs: Optional arguments that ``request`` takes.\n",
       "    :return: :class:`Response <Response>` object\n",
       "    :rtype: requests.Response\n",
       "    \"\"\"\u001b[0m\u001b[1;33m\n",
       "\u001b[0m\u001b[1;33m\n",
       "\u001b[0m    \u001b[1;32mreturn\u001b[0m \u001b[0mrequest\u001b[0m\u001b[1;33m(\u001b[0m\u001b[1;34m\"get\"\u001b[0m\u001b[1;33m,\u001b[0m \u001b[0murl\u001b[0m\u001b[1;33m,\u001b[0m \u001b[0mparams\u001b[0m\u001b[1;33m=\u001b[0m\u001b[0mparams\u001b[0m\u001b[1;33m,\u001b[0m \u001b[1;33m**\u001b[0m\u001b[0mkwargs\u001b[0m\u001b[1;33m)\u001b[0m\u001b[1;33m\u001b[0m\u001b[1;33m\u001b[0m\u001b[0m\n",
       "\u001b[1;31mFile:\u001b[0m      c:\\programdata\\anaconda3\\lib\\site-packages\\requests\\api.py\n",
       "\u001b[1;31mType:\u001b[0m      function"
      ]
     },
     "metadata": {},
     "output_type": "display_data"
    }
   ],
   "source": [
    "requests.get??"
   ]
  },
  {
   "cell_type": "code",
   "execution_count": 244,
   "id": "bb427a68-09a9-44db-9583-47799239b4b9",
   "metadata": {},
   "outputs": [],
   "source": [
    "# I can haz dad joke api endpoint\n",
    "# endpoint is just the url that you need to be hitting\n",
    "joke_url = 'https://icanhazdadjoke.com'\n",
    "\n",
    "# ISS API endpoint\n",
    "iss_url = 'https://api.wheretheiss.at/v1/satellites/25544'"
   ]
  },
  {
   "cell_type": "code",
   "execution_count": 245,
   "id": "eb1bec9b-c75e-440a-b0ab-2887e4648933",
   "metadata": {},
   "outputs": [],
   "source": [
    "# This is setting up a header - metadata for your api requests\n",
    "my_header = {\n",
    "    'Accept':'application/json'\n",
    "}\n",
    "\n",
    "# API call\n",
    "results = requests.get(joke_url, headers=my_header)"
   ]
  },
  {
   "cell_type": "code",
   "execution_count": 246,
   "id": "5fcf9324-f492-4493-bc2f-2949b5fa88ed",
   "metadata": {},
   "outputs": [
    {
     "data": {
      "text/plain": [
       "<Response [200]>"
      ]
     },
     "execution_count": 246,
     "metadata": {},
     "output_type": "execute_result"
    }
   ],
   "source": [
    "# Status of API request\n",
    "results"
   ]
  },
  {
   "cell_type": "code",
   "execution_count": 247,
   "id": "2305688b-689c-47bd-915f-5071dc27e8ee",
   "metadata": {},
   "outputs": [],
   "source": [
    "# Extract JSON results from API\n",
    "json_result = results.json()"
   ]
  },
  {
   "cell_type": "code",
   "execution_count": 248,
   "id": "6533efb5-827c-41a8-b1c4-5cdf2c454e64",
   "metadata": {},
   "outputs": [
    {
     "data": {
      "text/plain": [
       "{'id': 'zPZ0TClqrc',\n",
       " 'joke': 'What do you call a guy lying on your doorstep? Matt.',\n",
       " 'status': 200}"
      ]
     },
     "execution_count": 248,
     "metadata": {},
     "output_type": "execute_result"
    }
   ],
   "source": [
    "json_result"
   ]
  },
  {
   "cell_type": "code",
   "execution_count": 249,
   "id": "b2eafdd5-ba0a-432a-add2-ca773fe8471c",
   "metadata": {},
   "outputs": [
    {
     "data": {
      "text/plain": [
       "dict"
      ]
     },
     "execution_count": 249,
     "metadata": {},
     "output_type": "execute_result"
    }
   ],
   "source": [
    "type(json_result)"
   ]
  },
  {
   "cell_type": "code",
   "execution_count": 250,
   "id": "84ce1912-f5a7-4590-b4ce-e9eeddfe5a31",
   "metadata": {},
   "outputs": [
    {
     "data": {
      "text/plain": [
       "'What do you call a guy lying on your doorstep? Matt.'"
      ]
     },
     "execution_count": 250,
     "metadata": {},
     "output_type": "execute_result"
    }
   ],
   "source": [
    "json_result['joke']"
   ]
  },
  {
   "cell_type": "code",
   "execution_count": 251,
   "id": "c23af5a7-5200-4e88-974e-741ad8c17698",
   "metadata": {},
   "outputs": [],
   "source": [
    "# Making an ISS API call\n",
    "iss_results = requests.get(iss_url, headers=my_header)"
   ]
  },
  {
   "cell_type": "code",
   "execution_count": 252,
   "id": "81bfec18-a835-4ff0-825c-71acbee393c2",
   "metadata": {},
   "outputs": [
    {
     "data": {
      "text/plain": [
       "<Response [200]>"
      ]
     },
     "execution_count": 252,
     "metadata": {},
     "output_type": "execute_result"
    }
   ],
   "source": [
    "iss_results"
   ]
  },
  {
   "cell_type": "code",
   "execution_count": 253,
   "id": "2d2f3f73-e539-42a2-88dd-270fa0c26bf7",
   "metadata": {},
   "outputs": [
    {
     "data": {
      "text/plain": [
       "{'name': 'iss',\n",
       " 'id': 25544,\n",
       " 'latitude': 12.87813579636,\n",
       " 'longitude': -90.390601062431,\n",
       " 'altitude': 414.13257466023,\n",
       " 'velocity': 27597.497026164,\n",
       " 'visibility': 'daylight',\n",
       " 'footprint': 4477.4913541108,\n",
       " 'timestamp': 1743182384,\n",
       " 'daynum': 2460763.222037,\n",
       " 'solar_lat': 3.28416537472,\n",
       " 'solar_lon': 281.2956474857,\n",
       " 'units': 'kilometers'}"
      ]
     },
     "execution_count": 253,
     "metadata": {},
     "output_type": "execute_result"
    }
   ],
   "source": [
    "iss_results.json()"
   ]
  },
  {
   "cell_type": "markdown",
   "id": "b3dc342d-a416-4c58-8c50-1992d830b77a",
   "metadata": {},
   "source": [
    "# 10. Working with Files"
   ]
  },
  {
   "cell_type": "markdown",
   "id": "bceaf1a3-7920-46b2-bdcd-75c5ffbe3fee",
   "metadata": {},
   "source": [
    "__with statement__\n",
    "- helps work with resources like file streams.\n",
    "- it handles exceptions and ensures the stream is closed when no longer needed.\n",
    "\n",
    "__open modes__\n",
    "- There are a number of different modes you can use with the open function. Some common ones are :\n",
    "  - i. r:read\n",
    "  - ii. w: write\n",
    "  - iii. a: append\n",
    "  - iv. rb, wb: read binary, write binary"
   ]
  },
  {
   "cell_type": "code",
   "execution_count": 254,
   "id": "cd112623-7bfe-4645-a212-4231af0fb0ac",
   "metadata": {
    "scrolled": true
   },
   "outputs": [
    {
     "data": {
      "text/plain": [
       "\u001b[1;31mSignature:\u001b[0m\n",
       "\u001b[0mopen\u001b[0m\u001b[1;33m(\u001b[0m\u001b[1;33m\n",
       "\u001b[0m    \u001b[0mfile\u001b[0m\u001b[1;33m,\u001b[0m\u001b[1;33m\n",
       "\u001b[0m    \u001b[0mmode\u001b[0m\u001b[1;33m=\u001b[0m\u001b[1;34m'r'\u001b[0m\u001b[1;33m,\u001b[0m\u001b[1;33m\n",
       "\u001b[0m    \u001b[0mbuffering\u001b[0m\u001b[1;33m=\u001b[0m\u001b[1;33m-\u001b[0m\u001b[1;36m1\u001b[0m\u001b[1;33m,\u001b[0m\u001b[1;33m\n",
       "\u001b[0m    \u001b[0mencoding\u001b[0m\u001b[1;33m=\u001b[0m\u001b[1;32mNone\u001b[0m\u001b[1;33m,\u001b[0m\u001b[1;33m\n",
       "\u001b[0m    \u001b[0merrors\u001b[0m\u001b[1;33m=\u001b[0m\u001b[1;32mNone\u001b[0m\u001b[1;33m,\u001b[0m\u001b[1;33m\n",
       "\u001b[0m    \u001b[0mnewline\u001b[0m\u001b[1;33m=\u001b[0m\u001b[1;32mNone\u001b[0m\u001b[1;33m,\u001b[0m\u001b[1;33m\n",
       "\u001b[0m    \u001b[0mclosefd\u001b[0m\u001b[1;33m=\u001b[0m\u001b[1;32mTrue\u001b[0m\u001b[1;33m,\u001b[0m\u001b[1;33m\n",
       "\u001b[0m    \u001b[0mopener\u001b[0m\u001b[1;33m=\u001b[0m\u001b[1;32mNone\u001b[0m\u001b[1;33m,\u001b[0m\u001b[1;33m\n",
       "\u001b[0m\u001b[1;33m)\u001b[0m\u001b[1;33m\u001b[0m\u001b[1;33m\u001b[0m\u001b[0m\n",
       "\u001b[1;31mDocstring:\u001b[0m\n",
       "Open file and return a stream.  Raise OSError upon failure.\n",
       "\n",
       "file is either a text or byte string giving the name (and the path\n",
       "if the file isn't in the current working directory) of the file to\n",
       "be opened or an integer file descriptor of the file to be\n",
       "wrapped. (If a file descriptor is given, it is closed when the\n",
       "returned I/O object is closed, unless closefd is set to False.)\n",
       "\n",
       "mode is an optional string that specifies the mode in which the file\n",
       "is opened. It defaults to 'r' which means open for reading in text\n",
       "mode.  Other common values are 'w' for writing (truncating the file if\n",
       "it already exists), 'x' for creating and writing to a new file, and\n",
       "'a' for appending (which on some Unix systems, means that all writes\n",
       "append to the end of the file regardless of the current seek position).\n",
       "In text mode, if encoding is not specified the encoding used is platform\n",
       "dependent: locale.getencoding() is called to get the current locale encoding.\n",
       "(For reading and writing raw bytes use binary mode and leave encoding\n",
       "unspecified.) The available modes are:\n",
       "\n",
       "========= ===============================================================\n",
       "Character Meaning\n",
       "--------- ---------------------------------------------------------------\n",
       "'r'       open for reading (default)\n",
       "'w'       open for writing, truncating the file first\n",
       "'x'       create a new file and open it for writing\n",
       "'a'       open for writing, appending to the end of the file if it exists\n",
       "'b'       binary mode\n",
       "'t'       text mode (default)\n",
       "'+'       open a disk file for updating (reading and writing)\n",
       "========= ===============================================================\n",
       "\n",
       "The default mode is 'rt' (open for reading text). For binary random\n",
       "access, the mode 'w+b' opens and truncates the file to 0 bytes, while\n",
       "'r+b' opens the file without truncation. The 'x' mode implies 'w' and\n",
       "raises an `FileExistsError` if the file already exists.\n",
       "\n",
       "Python distinguishes between files opened in binary and text modes,\n",
       "even when the underlying operating system doesn't. Files opened in\n",
       "binary mode (appending 'b' to the mode argument) return contents as\n",
       "bytes objects without any decoding. In text mode (the default, or when\n",
       "'t' is appended to the mode argument), the contents of the file are\n",
       "returned as strings, the bytes having been first decoded using a\n",
       "platform-dependent encoding or using the specified encoding if given.\n",
       "\n",
       "buffering is an optional integer used to set the buffering policy.\n",
       "Pass 0 to switch buffering off (only allowed in binary mode), 1 to select\n",
       "line buffering (only usable in text mode), and an integer > 1 to indicate\n",
       "the size of a fixed-size chunk buffer.  When no buffering argument is\n",
       "given, the default buffering policy works as follows:\n",
       "\n",
       "* Binary files are buffered in fixed-size chunks; the size of the buffer\n",
       "  is chosen using a heuristic trying to determine the underlying device's\n",
       "  \"block size\" and falling back on `io.DEFAULT_BUFFER_SIZE`.\n",
       "  On many systems, the buffer will typically be 4096 or 8192 bytes long.\n",
       "\n",
       "* \"Interactive\" text files (files for which isatty() returns True)\n",
       "  use line buffering.  Other text files use the policy described above\n",
       "  for binary files.\n",
       "\n",
       "encoding is the name of the encoding used to decode or encode the\n",
       "file. This should only be used in text mode. The default encoding is\n",
       "platform dependent, but any encoding supported by Python can be\n",
       "passed.  See the codecs module for the list of supported encodings.\n",
       "\n",
       "errors is an optional string that specifies how encoding errors are to\n",
       "be handled---this argument should not be used in binary mode. Pass\n",
       "'strict' to raise a ValueError exception if there is an encoding error\n",
       "(the default of None has the same effect), or pass 'ignore' to ignore\n",
       "errors. (Note that ignoring encoding errors can lead to data loss.)\n",
       "See the documentation for codecs.register or run 'help(codecs.Codec)'\n",
       "for a list of the permitted encoding error strings.\n",
       "\n",
       "newline controls how universal newlines works (it only applies to text\n",
       "mode). It can be None, '', '\\n', '\\r', and '\\r\\n'.  It works as\n",
       "follows:\n",
       "\n",
       "* On input, if newline is None, universal newlines mode is\n",
       "  enabled. Lines in the input can end in '\\n', '\\r', or '\\r\\n', and\n",
       "  these are translated into '\\n' before being returned to the\n",
       "  caller. If it is '', universal newline mode is enabled, but line\n",
       "  endings are returned to the caller untranslated. If it has any of\n",
       "  the other legal values, input lines are only terminated by the given\n",
       "  string, and the line ending is returned to the caller untranslated.\n",
       "\n",
       "* On output, if newline is None, any '\\n' characters written are\n",
       "  translated to the system default line separator, os.linesep. If\n",
       "  newline is '' or '\\n', no translation takes place. If newline is any\n",
       "  of the other legal values, any '\\n' characters written are translated\n",
       "  to the given string.\n",
       "\n",
       "If closefd is False, the underlying file descriptor will be kept open\n",
       "when the file is closed. This does not work when a file name is given\n",
       "and must be True in that case.\n",
       "\n",
       "A custom opener can be used by passing a callable as *opener*. The\n",
       "underlying file descriptor for the file object is then obtained by\n",
       "calling *opener* with (*file*, *flags*). *opener* must return an open\n",
       "file descriptor (passing os.open as *opener* results in functionality\n",
       "similar to passing None).\n",
       "\n",
       "open() returns a file object whose type depends on the mode, and\n",
       "through which the standard file operations such as reading and writing\n",
       "are performed. When open() is used to open a file in a text mode ('w',\n",
       "'r', 'wt', 'rt', etc.), it returns a TextIOWrapper. When used to open\n",
       "a file in a binary mode, the returned class varies: in read binary\n",
       "mode, it returns a BufferedReader; in write binary and append binary\n",
       "modes, it returns a BufferedWriter, and in read/write mode, it returns\n",
       "a BufferedRandom.\n",
       "\n",
       "It is also possible to use a string or bytearray as a file for both\n",
       "reading and writing. For strings StringIO can be used like a file\n",
       "opened in a text mode, and for bytes a BytesIO can be used like a file\n",
       "opened in a binary mode.\n",
       "\u001b[1;31mType:\u001b[0m      function"
      ]
     },
     "metadata": {},
     "output_type": "display_data"
    }
   ],
   "source": [
    "open??"
   ]
  },
  {
   "cell_type": "code",
   "execution_count": 255,
   "id": "f0e20eeb-4602-47ab-88f0-1eed165d0743",
   "metadata": {},
   "outputs": [],
   "source": [
    "# Write out our mission journal - w\n",
    "with open('mission_journal.txt', 'w') as f:\n",
    "    f.write(\"It's my first day on the space mission. It is very nice.\")"
   ]
  },
  {
   "cell_type": "code",
   "execution_count": 256,
   "id": "86bf1857-0ab6-41b2-a6ef-a064d8116286",
   "metadata": {},
   "outputs": [],
   "source": [
    "# Read from journal - r\n",
    "with open('mission_journal.txt', 'r') as f:\n",
    "    file = f.read()"
   ]
  },
  {
   "cell_type": "code",
   "execution_count": 257,
   "id": "32601fa3-8e03-45b7-9535-c393e6e039c5",
   "metadata": {},
   "outputs": [
    {
     "name": "stdout",
     "output_type": "stream",
     "text": [
      "It's my first day on the space mission. It is very nice.\n"
     ]
    }
   ],
   "source": [
    "print(file)"
   ]
  },
  {
   "cell_type": "markdown",
   "id": "af62ad1f-6ee3-4b8d-a338-0a92da9a2379",
   "metadata": {},
   "source": [
    "# 11. Error Handling"
   ]
  },
  {
   "cell_type": "code",
   "execution_count": 258,
   "id": "6993121a-762c-4bf4-a508-dc190c961b28",
   "metadata": {},
   "outputs": [],
   "source": [
    "# Creat a set\n",
    "new_set = {1,2,3,4,5,6}"
   ]
  },
  {
   "cell_type": "markdown",
   "id": "095ead81-8017-4a68-a345-65d34a10ee5f",
   "metadata": {},
   "source": [
    "__Exception__\n",
    "- Note that by wrapping our code (which should cause an error) in a try/except block, an exception hasn't been raised but rather it's been handled gracefully."
   ]
  },
  {
   "cell_type": "code",
   "execution_count": 259,
   "id": "eccbd086-c911-4cae-b3d5-d97ee5a70452",
   "metadata": {},
   "outputs": [
    {
     "name": "stdout",
     "output_type": "stream",
     "text": [
      "'set' object does not support item assignment\n",
      "Something went wront with your request.\n"
     ]
    }
   ],
   "source": [
    "# Try something using the try keyword\n",
    "try:\n",
    "    # Run a piece of code which may cause an error\n",
    "    new_set[0] = 4\n",
    "\n",
    "# If we have an error, this code below will run\n",
    "except Exception as e:\n",
    "    # Print out something that's a little nicer for the user\n",
    "    print(e)\n",
    "    print('Something went wront with your request.')"
   ]
  },
  {
   "cell_type": "markdown",
   "id": "1fe9cbfc-bf7f-4b13-993c-502435e0e2b1",
   "metadata": {},
   "source": [
    "# 12. Math"
   ]
  },
  {
   "cell_type": "code",
   "execution_count": 260,
   "id": "e5703148-d843-4611-a45e-c3a440359ab7",
   "metadata": {},
   "outputs": [],
   "source": [
    "# Create two variables\n",
    "value_1 = 123\n",
    "value_2 = 456"
   ]
  },
  {
   "cell_type": "code",
   "execution_count": 261,
   "id": "5aff0574-70f9-4d9a-b3e9-c191a3cbbe7e",
   "metadata": {},
   "outputs": [
    {
     "data": {
      "text/plain": [
       "579"
      ]
     },
     "execution_count": 261,
     "metadata": {},
     "output_type": "execute_result"
    }
   ],
   "source": [
    "# Addition\n",
    "value_1 + value_2"
   ]
  },
  {
   "cell_type": "code",
   "execution_count": 262,
   "id": "bed12022-f585-46f5-96b4-a9d03f05b7d9",
   "metadata": {},
   "outputs": [
    {
     "data": {
      "text/plain": [
       "-333"
      ]
     },
     "execution_count": 262,
     "metadata": {},
     "output_type": "execute_result"
    }
   ],
   "source": [
    "# Substraction\n",
    "value_1 - value_2"
   ]
  },
  {
   "cell_type": "code",
   "execution_count": 263,
   "id": "ce717341-3835-4549-8f5b-c7a52e50e2a3",
   "metadata": {},
   "outputs": [
    {
     "data": {
      "text/plain": [
       "0.26973684210526316"
      ]
     },
     "execution_count": 263,
     "metadata": {},
     "output_type": "execute_result"
    }
   ],
   "source": [
    "# Division\n",
    "value_1/value_2"
   ]
  },
  {
   "cell_type": "code",
   "execution_count": 264,
   "id": "3efc596f-97df-457b-a465-1b32358aa6ec",
   "metadata": {},
   "outputs": [
    {
     "data": {
      "text/plain": [
       "3"
      ]
     },
     "execution_count": 264,
     "metadata": {},
     "output_type": "execute_result"
    }
   ],
   "source": [
    "# Dividing with the Integral Result\n",
    "value_2 // value_1"
   ]
  },
  {
   "cell_type": "code",
   "execution_count": 265,
   "id": "9e7210e2-bebc-42e9-ac85-df37fe22fde4",
   "metadata": {},
   "outputs": [
    {
     "data": {
      "text/plain": [
       "87"
      ]
     },
     "execution_count": 265,
     "metadata": {},
     "output_type": "execute_result"
    }
   ],
   "source": [
    "# Modulus/Modulo\n",
    "value_2 % value_1"
   ]
  },
  {
   "cell_type": "code",
   "execution_count": 266,
   "id": "3c33dbee-e5dd-48e6-a385-1f19ef1331df",
   "metadata": {},
   "outputs": [
    {
     "data": {
      "text/plain": [
       "56088"
      ]
     },
     "execution_count": 266,
     "metadata": {},
     "output_type": "execute_result"
    }
   ],
   "source": [
    "# Multiplication\n",
    "value_1 * value_2"
   ]
  },
  {
   "cell_type": "code",
   "execution_count": 267,
   "id": "f44ad3fb-1e21-436b-aa29-e863ca5942e9",
   "metadata": {},
   "outputs": [
    {
     "data": {
      "text/plain": [
       "25"
      ]
     },
     "execution_count": 267,
     "metadata": {},
     "output_type": "execute_result"
    }
   ],
   "source": [
    "# Power - two asterisks\n",
    "5 ** 2"
   ]
  },
  {
   "cell_type": "code",
   "execution_count": 268,
   "id": "f5143dc2-27a1-48fe-8995-873df8cab254",
   "metadata": {},
   "outputs": [
    {
     "data": {
      "text/plain": [
       "15129"
      ]
     },
     "execution_count": 268,
     "metadata": {},
     "output_type": "execute_result"
    }
   ],
   "source": [
    "value_1 ** 2"
   ]
  },
  {
   "cell_type": "code",
   "execution_count": 269,
   "id": "154e70c5-ff0a-4c30-97a3-7b29b3315492",
   "metadata": {},
   "outputs": [
    {
     "data": {
      "text/plain": [
       "123"
      ]
     },
     "execution_count": 269,
     "metadata": {},
     "output_type": "execute_result"
    }
   ],
   "source": [
    "# Round\n",
    "round(123.456)"
   ]
  },
  {
   "cell_type": "code",
   "execution_count": 270,
   "id": "f08b4d7d-0995-4e00-865f-dc67540e5615",
   "metadata": {},
   "outputs": [
    {
     "data": {
      "text/plain": [
       "123.46"
      ]
     },
     "execution_count": 270,
     "metadata": {},
     "output_type": "execute_result"
    }
   ],
   "source": [
    "round(123.456, 2)"
   ]
  },
  {
   "cell_type": "code",
   "execution_count": 271,
   "id": "c1836ba7-ef5e-499c-8024-647d827f3cce",
   "metadata": {},
   "outputs": [
    {
     "data": {
      "text/plain": [
       "\u001b[1;31mSignature:\u001b[0m \u001b[0mround\u001b[0m\u001b[1;33m(\u001b[0m\u001b[0mnumber\u001b[0m\u001b[1;33m,\u001b[0m \u001b[0mndigits\u001b[0m\u001b[1;33m=\u001b[0m\u001b[1;32mNone\u001b[0m\u001b[1;33m)\u001b[0m\u001b[1;33m\u001b[0m\u001b[1;33m\u001b[0m\u001b[0m\n",
       "\u001b[1;31mDocstring:\u001b[0m\n",
       "Round a number to a given precision in decimal digits.\n",
       "\n",
       "The return value is an integer if ndigits is omitted or None.  Otherwise\n",
       "the return value has the same type as the number.  ndigits may be negative.\n",
       "\u001b[1;31mType:\u001b[0m      builtin_function_or_method"
      ]
     },
     "metadata": {},
     "output_type": "display_data"
    }
   ],
   "source": [
    "round??"
   ]
  },
  {
   "cell_type": "code",
   "execution_count": 272,
   "id": "f6ba076b-8f1b-40a0-9f3a-72830625dba1",
   "metadata": {},
   "outputs": [
    {
     "data": {
      "text/plain": [
       "10990"
      ]
     },
     "execution_count": 272,
     "metadata": {},
     "output_type": "execute_result"
    }
   ],
   "source": [
    "# Absolute values\n",
    "abs(-10990)"
   ]
  },
  {
   "cell_type": "code",
   "execution_count": 273,
   "id": "e4b19954-5cbe-4cfb-8ff6-4ea676dac72d",
   "metadata": {},
   "outputs": [
    {
     "data": {
      "text/plain": [
       "43"
      ]
     },
     "execution_count": 273,
     "metadata": {},
     "output_type": "execute_result"
    }
   ],
   "source": [
    "# Minimum - return smallest values\n",
    "min(2321, 34253, 232, 234, 43)"
   ]
  },
  {
   "cell_type": "code",
   "execution_count": 274,
   "id": "253b45dc-8d2e-49af-b785-da991a0b477d",
   "metadata": {},
   "outputs": [
    {
     "data": {
      "text/plain": [
       "24312"
      ]
     },
     "execution_count": 274,
     "metadata": {},
     "output_type": "execute_result"
    }
   ],
   "source": [
    "# Maximum - return maximum values\n",
    "max(24312, 422, 4324, 12, 34)"
   ]
  },
  {
   "cell_type": "code",
   "execution_count": 275,
   "id": "e8b0342e-7305-4764-b2c3-e4524ad1bf86",
   "metadata": {},
   "outputs": [],
   "source": [
    "# Import the math package\n",
    "import math"
   ]
  },
  {
   "cell_type": "code",
   "execution_count": 276,
   "id": "1ab4cc97-756a-460f-b30f-3fff135aa85b",
   "metadata": {},
   "outputs": [
    {
     "data": {
      "text/plain": [
       "\u001b[1;31mSignature:\u001b[0m \u001b[0mmath\u001b[0m\u001b[1;33m.\u001b[0m\u001b[0mradians\u001b[0m\u001b[1;33m(\u001b[0m\u001b[0mx\u001b[0m\u001b[1;33m,\u001b[0m \u001b[1;33m/\u001b[0m\u001b[1;33m)\u001b[0m\u001b[1;33m\u001b[0m\u001b[1;33m\u001b[0m\u001b[0m\n",
       "\u001b[1;31mDocstring:\u001b[0m Convert angle x from degrees to radians.\n",
       "\u001b[1;31mType:\u001b[0m      builtin_function_or_method"
      ]
     },
     "metadata": {},
     "output_type": "display_data"
    }
   ],
   "source": [
    "math.radians??"
   ]
  },
  {
   "cell_type": "code",
   "execution_count": null,
   "id": "ea777b4b-deaf-4dc3-b04c-eb7240e489cd",
   "metadata": {},
   "outputs": [],
   "source": []
  }
 ],
 "metadata": {
  "kernelspec": {
   "display_name": "Python 3 (ipykernel)",
   "language": "python",
   "name": "python3"
  },
  "language_info": {
   "codemirror_mode": {
    "name": "ipython",
    "version": 3
   },
   "file_extension": ".py",
   "mimetype": "text/x-python",
   "name": "python",
   "nbconvert_exporter": "python",
   "pygments_lexer": "ipython3",
   "version": "3.11.5"
  }
 },
 "nbformat": 4,
 "nbformat_minor": 5
}
