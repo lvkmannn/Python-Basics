{
 "cells": [
  {
   "cell_type": "markdown",
   "id": "31a6a30b-2e50-42bf-82cc-1bd015509525",
   "metadata": {},
   "source": [
    "# 1. BMI Calculator"
   ]
  },
  {
   "cell_type": "code",
   "execution_count": 14,
   "id": "9e325f80-fd00-4e56-8800-d7cd0e6278e8",
   "metadata": {},
   "outputs": [
    {
     "name": "stdin",
     "output_type": "stream",
     "text": [
      "Weight (in kg):  40\n",
      "Height (in m):  130\n"
     ]
    },
    {
     "name": "stdout",
     "output_type": "stream",
     "text": [
      "BMI: 0.002366863905325444\n",
      "BMI Status: Underweight\n"
     ]
    }
   ],
   "source": [
    "import math\n",
    "\n",
    "weight = float(input(\"Weight (in kg): \"))\n",
    "height = float(input(\"Height (in m): \"))\n",
    "\n",
    "def scale(BMI):\n",
    "    if BMI <18.5:\n",
    "        return (\"Underweight\")\n",
    "    elif BMI >= 18.5 and BMI<=24.9:\n",
    "        return (\"Normal\")\n",
    "    elif BMI >= 25.0 and BMI<=29.9:\n",
    "        return (\"Overweight\")\n",
    "    else:\n",
    "        return (\"Obese\")\n",
    "\n",
    "BMI = weight/pow(height, 2)\n",
    "print(\"BMI: {}\".format(BMI))\n",
    "print(\"BMI Status: \" + scale(BMI))"
   ]
  },
  {
   "cell_type": "markdown",
   "id": "03a81327-16fe-4e15-ab60-bf81813222bd",
   "metadata": {},
   "source": [
    "# 2. Python Triangle"
   ]
  },
  {
   "cell_type": "code",
   "execution_count": 1,
   "id": "1994c2e1-5bdd-4e71-9c3c-7a5ed313e412",
   "metadata": {},
   "outputs": [
    {
     "name": "stdout",
     "output_type": "stream",
     "text": [
      "*\n",
      "**\n",
      "***\n",
      "****\n",
      "*****\n"
     ]
    }
   ],
   "source": [
    "for i in range(1, 5 + 1):\n",
    "    for j in range(1, i + 1):\n",
    "        print(\"*\", end=\"\")\n",
    "    print()"
   ]
  },
  {
   "cell_type": "code",
   "execution_count": null,
   "id": "abeb8040-0746-46e4-bd36-ac7c3f0698b0",
   "metadata": {},
   "outputs": [],
   "source": []
  }
 ],
 "metadata": {
  "kernelspec": {
   "display_name": "Python 3 (ipykernel)",
   "language": "python",
   "name": "python3"
  },
  "language_info": {
   "codemirror_mode": {
    "name": "ipython",
    "version": 3
   },
   "file_extension": ".py",
   "mimetype": "text/x-python",
   "name": "python",
   "nbconvert_exporter": "python",
   "pygments_lexer": "ipython3",
   "version": "3.11.5"
  }
 },
 "nbformat": 4,
 "nbformat_minor": 5
}
