{
 "cells": [
  {
   "cell_type": "markdown",
   "id": "44397038-86ad-49a5-b5ea-0da568522d41",
   "metadata": {},
   "source": [
    "# 0. Variables"
   ]
  },
  {
   "cell_type": "code",
   "execution_count": 1,
   "id": "e0dab044-8ad3-41b2-9a68-00ca04a18f2a",
   "metadata": {},
   "outputs": [],
   "source": [
    "space_name = 123.678"
   ]
  },
  {
   "cell_type": "code",
   "execution_count": 2,
   "id": "49c217c5-e79c-4741-bfcb-60911fdbeb1b",
   "metadata": {},
   "outputs": [
    {
     "data": {
      "text/plain": [
       "123.678"
      ]
     },
     "execution_count": 2,
     "metadata": {},
     "output_type": "execute_result"
    }
   ],
   "source": [
    "space_name"
   ]
  },
  {
   "cell_type": "code",
   "execution_count": 3,
   "id": "c714f8ac-5d53-4874-b857-d367f24adb70",
   "metadata": {},
   "outputs": [
    {
     "data": {
      "text/plain": [
       "float"
      ]
     },
     "execution_count": 3,
     "metadata": {},
     "output_type": "execute_result"
    }
   ],
   "source": [
    "type(space_name)"
   ]
  },
  {
   "cell_type": "markdown",
   "id": "2eef1992-ac68-4206-b68d-fcf9bfaf93fc",
   "metadata": {},
   "source": [
    "# 1. Data Types"
   ]
  },
  {
   "cell_type": "code",
   "execution_count": 4,
   "id": "0e692194-fd64-4792-bd4d-94730032013d",
   "metadata": {},
   "outputs": [
    {
     "name": "stdout",
     "output_type": "stream",
     "text": [
      "pluto\n"
     ]
    }
   ],
   "source": [
    "# This is declaring a variable as a STRING\n",
    "test_variable = 'pluto'\n",
    "print(test_variable)"
   ]
  },
  {
   "cell_type": "code",
   "execution_count": 5,
   "id": "1c62ee7b-240c-4b86-85f0-a21d1abf10c0",
   "metadata": {},
   "outputs": [
    {
     "data": {
      "text/plain": [
       "str"
      ]
     },
     "execution_count": 5,
     "metadata": {},
     "output_type": "execute_result"
    }
   ],
   "source": [
    "type(test_variable)"
   ]
  },
  {
   "cell_type": "code",
   "execution_count": 6,
   "id": "0a3b7ce8-8d59-45f0-a744-f3ebe2f90e47",
   "metadata": {},
   "outputs": [
    {
     "data": {
      "text/plain": [
       "int"
      ]
     },
     "execution_count": 6,
     "metadata": {},
     "output_type": "execute_result"
    }
   ],
   "source": [
    "#This is declaring a variable as an Integer\n",
    "integer_variable = 12345\n",
    "type(integer_variable)"
   ]
  },
  {
   "cell_type": "code",
   "execution_count": 7,
   "id": "9dd696a1-0c93-4a13-ab52-b42808cf9be2",
   "metadata": {},
   "outputs": [
    {
     "data": {
      "text/plain": [
       "12355"
      ]
     },
     "execution_count": 7,
     "metadata": {},
     "output_type": "execute_result"
    }
   ],
   "source": [
    "integer_variable + 10"
   ]
  },
  {
   "cell_type": "code",
   "execution_count": 8,
   "id": "0c7758ab-3c5f-4cb0-a37c-7ae4ef7f89e9",
   "metadata": {},
   "outputs": [
    {
     "data": {
      "text/plain": [
       "float"
      ]
     },
     "execution_count": 8,
     "metadata": {},
     "output_type": "execute_result"
    }
   ],
   "source": [
    "#Declaring variable as a Float\n",
    "float_variable = 123.126\n",
    "type(float_variable)"
   ]
  },
  {
   "cell_type": "code",
   "execution_count": 9,
   "id": "799221ea-7ada-4d0f-b54b-eb58cc06b931",
   "metadata": {},
   "outputs": [
    {
     "data": {
      "text/plain": [
       "bool"
      ]
     },
     "execution_count": 9,
     "metadata": {},
     "output_type": "execute_result"
    }
   ],
   "source": [
    "#This is declaring a Boolean value to a variable\n",
    "bool_variable = bool(0)\n",
    "type(bool_variable)"
   ]
  },
  {
   "cell_type": "code",
   "execution_count": 10,
   "id": "41029d2d-ad4e-4336-b2a3-433801afb075",
   "metadata": {},
   "outputs": [
    {
     "data": {
      "text/plain": [
       "False"
      ]
     },
     "execution_count": 10,
     "metadata": {},
     "output_type": "execute_result"
    }
   ],
   "source": [
    "bool_variable"
   ]
  },
  {
   "cell_type": "code",
   "execution_count": 11,
   "id": "f963c3e2-5ac7-420e-84b4-1740a278b8c0",
   "metadata": {},
   "outputs": [
    {
     "data": {
      "text/plain": [
       "list"
      ]
     },
     "execution_count": 11,
     "metadata": {},
     "output_type": "execute_result"
    }
   ],
   "source": [
    "# This is creating a list variable\n",
    "list_variable=[1, 2, 3, 23.44, 85.4, 22.1,3,1,2,3]\n",
    "type(list_variable)"
   ]
  },
  {
   "cell_type": "code",
   "execution_count": 12,
   "id": "97b35cbf-0cbb-43df-b6f1-8f13bb1af92a",
   "metadata": {},
   "outputs": [
    {
     "data": {
      "text/plain": [
       "[1, 2, 3, 23.44, 85.4, 22.1, 3, 1, 2, 3]"
      ]
     },
     "execution_count": 12,
     "metadata": {},
     "output_type": "execute_result"
    }
   ],
   "source": [
    "list_variable"
   ]
  },
  {
   "cell_type": "code",
   "execution_count": 13,
   "id": "670a6c92-1a69-41a8-b5a5-2943cb85abd4",
   "metadata": {},
   "outputs": [
    {
     "data": {
      "text/plain": [
       "23.44"
      ]
     },
     "execution_count": 13,
     "metadata": {},
     "output_type": "execute_result"
    }
   ],
   "source": [
    "list_variable[3]"
   ]
  },
  {
   "cell_type": "code",
   "execution_count": 14,
   "id": "e4c885cd-4dbe-40e1-9067-f32a7a3a88c7",
   "metadata": {},
   "outputs": [],
   "source": [
    "#Updating a list\n",
    "list_variable[5]=123"
   ]
  },
  {
   "cell_type": "code",
   "execution_count": 15,
   "id": "eb62b504-41ef-4b73-8bfe-d8795ab6f4e1",
   "metadata": {},
   "outputs": [
    {
     "data": {
      "text/plain": [
       "[1, 2, 3, 23.44, 85.4, 123, 3, 1, 2, 3]"
      ]
     },
     "execution_count": 15,
     "metadata": {},
     "output_type": "execute_result"
    }
   ],
   "source": [
    "list_variable"
   ]
  },
  {
   "cell_type": "code",
   "execution_count": 16,
   "id": "9db605d5-8c8e-4337-8000-7fc78c14ea06",
   "metadata": {},
   "outputs": [
    {
     "data": {
      "text/plain": [
       "tuple"
      ]
     },
     "execution_count": 16,
     "metadata": {},
     "output_type": "execute_result"
    }
   ],
   "source": [
    "# Create a TUPLE variable, IMMUTABLE\n",
    "tuple_variable = (1, 2, 3, 23.44, 85.4, 22.1)\n",
    "type(tuple_variable)"
   ]
  },
  {
   "cell_type": "code",
   "execution_count": 17,
   "id": "c06af3e8-0968-4ee2-b87a-3d057030ed19",
   "metadata": {},
   "outputs": [
    {
     "data": {
      "text/plain": [
       "(1, 2, 3, 23.44, 85.4, 22.1)"
      ]
     },
     "execution_count": 17,
     "metadata": {},
     "output_type": "execute_result"
    }
   ],
   "source": [
    "tuple_variable"
   ]
  },
  {
   "cell_type": "code",
   "execution_count": 18,
   "id": "6501aa2f-e7c6-40a5-8eb6-012518e44dae",
   "metadata": {},
   "outputs": [
    {
     "data": {
      "text/plain": [
       "22.1"
      ]
     },
     "execution_count": 18,
     "metadata": {},
     "output_type": "execute_result"
    }
   ],
   "source": [
    "tuple_variable[5]"
   ]
  },
  {
   "cell_type": "code",
   "execution_count": 19,
   "id": "f7be79c3-06d3-4e88-aac9-008f134a1d03",
   "metadata": {},
   "outputs": [],
   "source": [
    "#Cannot update values like LIST in TUPLE!!!!!"
   ]
  },
  {
   "cell_type": "code",
   "execution_count": 20,
   "id": "1724315e-fb5d-4846-a92d-25c89feea44e",
   "metadata": {},
   "outputs": [
    {
     "data": {
      "text/plain": [
       "set"
      ]
     },
     "execution_count": 20,
     "metadata": {},
     "output_type": "execute_result"
    }
   ],
   "source": [
    "# This is creating a SET variable\n",
    "set_variable = {1, 2, 3, 23.44, 85.4, 22.1,3}\n",
    "type(set_variable)"
   ]
  },
  {
   "cell_type": "code",
   "execution_count": 21,
   "id": "f5a37391-f8eb-4bb5-bb32-9f43b0673230",
   "metadata": {},
   "outputs": [
    {
     "data": {
      "text/plain": [
       "{1, 2, 3, 22.1, 23.44, 85.4}"
      ]
     },
     "execution_count": 21,
     "metadata": {},
     "output_type": "execute_result"
    }
   ],
   "source": [
    "set_variable"
   ]
  },
  {
   "cell_type": "code",
   "execution_count": 22,
   "id": "fd48b5a3-a2a3-4dc7-a959-980ca386e211",
   "metadata": {},
   "outputs": [
    {
     "data": {
      "text/plain": [
       "[1, 2, 3, 85.4, 23.44, 123]"
      ]
     },
     "execution_count": 22,
     "metadata": {},
     "output_type": "execute_result"
    }
   ],
   "source": [
    "# Type casting list to set, and then back to list to get rid of duplicates\n",
    "list(set(list_variable)) "
   ]
  },
  {
   "cell_type": "code",
   "execution_count": 23,
   "id": "d95f5044-9cfb-4edd-a060-13c12288bf09",
   "metadata": {},
   "outputs": [
    {
     "data": {
      "text/plain": [
       "dict"
      ]
     },
     "execution_count": 23,
     "metadata": {},
     "output_type": "execute_result"
    }
   ],
   "source": [
    "# Defining a dictionary variable\n",
    "dict_variable = {'name':\"Nicholas\", 'favourite_color':'red', 'favourite_number':44}\n",
    "type(dict_variable)"
   ]
  },
  {
   "cell_type": "code",
   "execution_count": 24,
   "id": "af604947-6943-41fa-8ebc-5786c7e67126",
   "metadata": {},
   "outputs": [
    {
     "data": {
      "text/plain": [
       "'Nicholas'"
      ]
     },
     "execution_count": 24,
     "metadata": {},
     "output_type": "execute_result"
    }
   ],
   "source": [
    "dict_variable['name']"
   ]
  },
  {
   "cell_type": "code",
   "execution_count": 25,
   "id": "e4aa9b98-7b65-4c9e-aa91-647689826f3d",
   "metadata": {},
   "outputs": [
    {
     "data": {
      "text/plain": [
       "44"
      ]
     },
     "execution_count": 25,
     "metadata": {},
     "output_type": "execute_result"
    }
   ],
   "source": [
    "dict_variable['favourite_number']"
   ]
  },
  {
   "cell_type": "code",
   "execution_count": 26,
   "id": "47d1f315-3b41-4f08-8c69-3fb2db44b434",
   "metadata": {},
   "outputs": [
    {
     "data": {
      "text/plain": [
       "(1, 2, 3, 23.44, 85.4, 123, 3, 1, 2, 3)"
      ]
     },
     "execution_count": 26,
     "metadata": {},
     "output_type": "execute_result"
    }
   ],
   "source": [
    "tuple(list_variable)"
   ]
  },
  {
   "cell_type": "markdown",
   "id": "2ba48c11-d7ca-4289-b1a3-e686540f54e4",
   "metadata": {},
   "source": [
    "# 2. Lists"
   ]
  },
  {
   "cell_type": "code",
   "execution_count": 27,
   "id": "2be86bc0-07b0-45ff-a91e-68a78c5e99ba",
   "metadata": {},
   "outputs": [],
   "source": [
    "# Create\n",
    "names = ['neil amstrong', 'buzz alfrin', 'sally ride', 'yuri gagarin', 'elon musk']"
   ]
  },
  {
   "cell_type": "code",
   "execution_count": 28,
   "id": "e2661f99-8325-44f2-a3ea-37de700652ca",
   "metadata": {},
   "outputs": [
    {
     "data": {
      "text/plain": [
       "['neil amstrong', 'buzz alfrin', 'sally ride', 'yuri gagarin', 'elon musk']"
      ]
     },
     "execution_count": 28,
     "metadata": {},
     "output_type": "execute_result"
    }
   ],
   "source": [
    "# Read\n",
    "names"
   ]
  },
  {
   "cell_type": "code",
   "execution_count": 29,
   "id": "912a149b-95c1-4bb1-ae58-c7109d8ccb4f",
   "metadata": {},
   "outputs": [
    {
     "data": {
      "text/plain": [
       "'neil amstrong'"
      ]
     },
     "execution_count": 29,
     "metadata": {},
     "output_type": "execute_result"
    }
   ],
   "source": [
    "# Reading using indexing\n",
    "names[0]"
   ]
  },
  {
   "cell_type": "code",
   "execution_count": 30,
   "id": "596e29d2-3c56-4133-a027-31c6a03af94a",
   "metadata": {},
   "outputs": [
    {
     "data": {
      "text/plain": [
       "'elon musk'"
      ]
     },
     "execution_count": 30,
     "metadata": {},
     "output_type": "execute_result"
    }
   ],
   "source": [
    "names[-1]"
   ]
  },
  {
   "cell_type": "code",
   "execution_count": 31,
   "id": "f85a1962-4d57-48fd-950a-a10252460f44",
   "metadata": {},
   "outputs": [
    {
     "data": {
      "text/plain": [
       "5"
      ]
     },
     "execution_count": 31,
     "metadata": {},
     "output_type": "execute_result"
    }
   ],
   "source": [
    "len(names)"
   ]
  },
  {
   "cell_type": "code",
   "execution_count": 32,
   "id": "de3c252a-e940-4810-a4b8-9c8b719864bf",
   "metadata": {},
   "outputs": [
    {
     "data": {
      "text/plain": [
       "['neil amstrong',\n",
       " 'buzz alfrin',\n",
       " 'sally ride',\n",
       " 'yuri gagarin',\n",
       " 'lukman nur hafiz']"
      ]
     },
     "execution_count": 32,
     "metadata": {},
     "output_type": "execute_result"
    }
   ],
   "source": [
    "# Update\n",
    "names[-1] = 'lukman nur hafiz'\n",
    "names"
   ]
  },
  {
   "cell_type": "code",
   "execution_count": 33,
   "id": "de03aaa2-0d36-48bf-b714-254be0eb3b91",
   "metadata": {},
   "outputs": [],
   "source": [
    "names.append('elon musk')"
   ]
  },
  {
   "cell_type": "code",
   "execution_count": 34,
   "id": "e117e2df-e49e-4c3b-ac31-30f6979d74de",
   "metadata": {},
   "outputs": [
    {
     "data": {
      "text/plain": [
       "['neil amstrong',\n",
       " 'buzz alfrin',\n",
       " 'sally ride',\n",
       " 'yuri gagarin',\n",
       " 'lukman nur hafiz',\n",
       " 'elon musk']"
      ]
     },
     "execution_count": 34,
     "metadata": {},
     "output_type": "execute_result"
    }
   ],
   "source": [
    "names"
   ]
  },
  {
   "cell_type": "code",
   "execution_count": 35,
   "id": "6cc8aa1c-8db1-4f4a-b428-bd0b3a1854bf",
   "metadata": {},
   "outputs": [],
   "source": [
    "names.insert(0, 'richard branson')"
   ]
  },
  {
   "cell_type": "code",
   "execution_count": 36,
   "id": "7f4e6dd3-b118-4200-8132-3ff34f5be50a",
   "metadata": {},
   "outputs": [
    {
     "data": {
      "text/plain": [
       "['richard branson',\n",
       " 'neil amstrong',\n",
       " 'buzz alfrin',\n",
       " 'sally ride',\n",
       " 'yuri gagarin',\n",
       " 'lukman nur hafiz',\n",
       " 'elon musk']"
      ]
     },
     "execution_count": 36,
     "metadata": {},
     "output_type": "execute_result"
    }
   ],
   "source": [
    "names"
   ]
  },
  {
   "cell_type": "code",
   "execution_count": 37,
   "id": "83ca6499-4045-44ba-900f-336d0fbab589",
   "metadata": {},
   "outputs": [],
   "source": [
    "# Delete\n",
    "del names[-2]"
   ]
  },
  {
   "cell_type": "code",
   "execution_count": 38,
   "id": "b1989066-7680-4ef9-81d8-606f3fbc7b48",
   "metadata": {},
   "outputs": [
    {
     "data": {
      "text/plain": [
       "['richard branson',\n",
       " 'neil amstrong',\n",
       " 'buzz alfrin',\n",
       " 'sally ride',\n",
       " 'yuri gagarin',\n",
       " 'elon musk']"
      ]
     },
     "execution_count": 38,
     "metadata": {},
     "output_type": "execute_result"
    }
   ],
   "source": [
    "names"
   ]
  },
  {
   "cell_type": "markdown",
   "id": "03f4aac7-0af8-4c26-8441-bb69d124cf57",
   "metadata": {},
   "source": [
    "# 3. Dictionaries"
   ]
  },
  {
   "cell_type": "code",
   "execution_count": 39,
   "id": "2288b923-bef2-421e-9372-aa3279cbb3c5",
   "metadata": {},
   "outputs": [],
   "source": [
    "# Create\n",
    "astronaut = {\n",
    "    'name':'elon musk',\n",
    "    'suit_size':'large',\n",
    "    'allergies':'peanuts'\n",
    "}"
   ]
  },
  {
   "cell_type": "code",
   "execution_count": 40,
   "id": "580e44a6-bdce-4aa3-bdb8-2ddd181776dc",
   "metadata": {},
   "outputs": [
    {
     "data": {
      "text/plain": [
       "{'name': 'elon musk', 'suit_size': 'large', 'allergies': 'peanuts'}"
      ]
     },
     "execution_count": 40,
     "metadata": {},
     "output_type": "execute_result"
    }
   ],
   "source": [
    "# Read\n",
    "astronaut"
   ]
  },
  {
   "cell_type": "code",
   "execution_count": 41,
   "id": "bda37801-b20a-40b1-890d-973807586924",
   "metadata": {},
   "outputs": [
    {
     "data": {
      "text/plain": [
       "'large'"
      ]
     },
     "execution_count": 41,
     "metadata": {},
     "output_type": "execute_result"
    }
   ],
   "source": [
    "astronaut['suit_size']"
   ]
  },
  {
   "cell_type": "code",
   "execution_count": 42,
   "id": "62610468-e411-4108-9d1a-83ee812a0eb9",
   "metadata": {},
   "outputs": [
    {
     "data": {
      "text/plain": [
       "dict_keys(['name', 'suit_size', 'allergies'])"
      ]
     },
     "execution_count": 42,
     "metadata": {},
     "output_type": "execute_result"
    }
   ],
   "source": [
    "astronaut.keys()"
   ]
  },
  {
   "cell_type": "code",
   "execution_count": 43,
   "id": "9b272eed-a2c4-4b9b-9fe0-4700437503db",
   "metadata": {},
   "outputs": [
    {
     "data": {
      "text/plain": [
       "dict_values(['elon musk', 'large', 'peanuts'])"
      ]
     },
     "execution_count": 43,
     "metadata": {},
     "output_type": "execute_result"
    }
   ],
   "source": [
    "astronaut.values()"
   ]
  },
  {
   "cell_type": "code",
   "execution_count": 44,
   "id": "a3f20705-4d5c-490f-bf56-cb2ceeb0fb6e",
   "metadata": {},
   "outputs": [],
   "source": [
    "# Update"
   ]
  },
  {
   "cell_type": "code",
   "execution_count": 45,
   "id": "8e584c4e-cf7e-4b71-b0eb-4c576b59daea",
   "metadata": {},
   "outputs": [],
   "source": [
    "astronaut['allergies']='mango'"
   ]
  },
  {
   "cell_type": "code",
   "execution_count": 46,
   "id": "6d89375b-6045-42da-94b9-93ad1adb4a76",
   "metadata": {},
   "outputs": [
    {
     "data": {
      "text/plain": [
       "{'name': 'elon musk', 'suit_size': 'large', 'allergies': 'mango'}"
      ]
     },
     "execution_count": 46,
     "metadata": {},
     "output_type": "execute_result"
    }
   ],
   "source": [
    "astronaut"
   ]
  },
  {
   "cell_type": "code",
   "execution_count": 47,
   "id": "6b01ecaf-4476-4230-a393-3ad36d568207",
   "metadata": {},
   "outputs": [],
   "source": [
    "astronaut['space_ship'] = 'galactic 1'"
   ]
  },
  {
   "cell_type": "code",
   "execution_count": 48,
   "id": "602ab4cc-f808-4140-95b2-daeb7a0b4cc5",
   "metadata": {},
   "outputs": [
    {
     "data": {
      "text/plain": [
       "{'name': 'elon musk',\n",
       " 'suit_size': 'large',\n",
       " 'allergies': 'mango',\n",
       " 'space_ship': 'galactic 1'}"
      ]
     },
     "execution_count": 48,
     "metadata": {},
     "output_type": "execute_result"
    }
   ],
   "source": [
    "astronaut"
   ]
  },
  {
   "cell_type": "code",
   "execution_count": 49,
   "id": "7bc5b334-86b8-4597-9c16-e45e0bb62610",
   "metadata": {},
   "outputs": [],
   "source": [
    "# Delete"
   ]
  },
  {
   "cell_type": "code",
   "execution_count": 50,
   "id": "44c00ddf-b88b-49b1-ac6e-cd011a2f626b",
   "metadata": {},
   "outputs": [],
   "source": [
    "del astronaut['space_ship']"
   ]
  },
  {
   "cell_type": "code",
   "execution_count": 51,
   "id": "a36ff4c2-f54d-45d2-9469-fd90abf8402c",
   "metadata": {},
   "outputs": [
    {
     "data": {
      "text/plain": [
       "{'name': 'elon musk', 'suit_size': 'large', 'allergies': 'mango'}"
      ]
     },
     "execution_count": 51,
     "metadata": {},
     "output_type": "execute_result"
    }
   ],
   "source": [
    "astronaut"
   ]
  },
  {
   "cell_type": "markdown",
   "id": "4060a77d-55cc-48a1-babe-4ed77ba2e3c2",
   "metadata": {},
   "source": [
    "# 4. Conditions and Logic"
   ]
  },
  {
   "cell_type": "code",
   "execution_count": 52,
   "id": "4c20d0a5-b2e0-47b3-92c7-f0100d31dd0c",
   "metadata": {},
   "outputs": [
    {
     "name": "stdout",
     "output_type": "stream",
     "text": [
      "sup Neil Armstrong\n"
     ]
    }
   ],
   "source": [
    "# Applying logic using the IF statement\n",
    "name = 'Neil Armstrong'\n",
    "\n",
    "if name == 'Neil Armstrong':\n",
    "    print ('sup ' + name)"
   ]
  },
  {
   "cell_type": "code",
   "execution_count": 53,
   "id": "94b5ec4a-d833-4343-8309-e4c930ad16d9",
   "metadata": {},
   "outputs": [
    {
     "name": "stdout",
     "output_type": "stream",
     "text": [
      "False\n"
     ]
    }
   ],
   "source": [
    "probability = 0.1\n",
    "\n",
    "if probability >= 0.5:\n",
    "    print(True)\n",
    "elif probability < 0:\n",
    "    print('Check your probability')\n",
    "else:\n",
    "    print(False)"
   ]
  },
  {
   "cell_type": "code",
   "execution_count": 54,
   "id": "859b7922-4b4e-41d6-8c4f-d7f595766079",
   "metadata": {},
   "outputs": [
    {
     "name": "stdout",
     "output_type": "stream",
     "text": [
      "Elon's here\n"
     ]
    }
   ],
   "source": [
    "# Create a list of names\n",
    "names = ['neil amstrong', 'buzz aldrin', 'sally ride', 'yuri gagarin', 'elon musk']\n",
    "\n",
    "if 'elon musk' in names:\n",
    "    print('Elon\\'s here')"
   ]
  },
  {
   "cell_type": "markdown",
   "id": "b5546c47-d72e-4a1e-acbc-cddb81129d64",
   "metadata": {},
   "source": [
    "# 5. Loops"
   ]
  },
  {
   "cell_type": "code",
   "execution_count": 55,
   "id": "7899d19b-3ff1-404a-87cb-b14056b355f2",
   "metadata": {},
   "outputs": [
    {
     "name": "stdout",
     "output_type": "stream",
     "text": [
      "neil amstrong\n",
      "Pleased to have you here!\n",
      "\n",
      "buzz aldrin\n",
      "Hi buzz aldrin\n",
      "\n",
      "sally ride\n",
      "Pleased to have you here!\n",
      "\n",
      "yuri gagarin\n",
      "Hi yuri gagarin\n",
      "\n"
     ]
    }
   ],
   "source": [
    "# For loop\n",
    "for name in names:\n",
    "    print(name)\n",
    "    if name == 'buzz aldrin':\n",
    "        print('Hi ' + name + '\\n')\n",
    "        # Next value in the loop\n",
    "        continue\n",
    "    elif name == 'yuri gagarin':\n",
    "        print('Hi ' + name + '\\n')\n",
    "        # Break statement stops the loop\n",
    "        break\n",
    "    else:\n",
    "        # Placeholder to do nothing\n",
    "        pass\n",
    "\n",
    "    # Outside of if statement block\n",
    "    print('Pleased to have you here!\\n')"
   ]
  },
  {
   "cell_type": "code",
   "execution_count": 56,
   "id": "dd084804-06d4-4f88-ab7e-fdbfc31af909",
   "metadata": {},
   "outputs": [
    {
     "name": "stdout",
     "output_type": "stream",
     "text": [
      "0\n",
      "1\n",
      "2\n",
      "3\n",
      "4\n",
      "5\n",
      "6\n",
      "7\n",
      "8\n",
      "9\n"
     ]
    }
   ],
   "source": [
    "# Loop x number of times\n",
    "for idx in range(10):\n",
    "    print(idx)"
   ]
  },
  {
   "cell_type": "code",
   "execution_count": 57,
   "id": "2d320288-8e99-4d9b-88ae-638d78433589",
   "metadata": {},
   "outputs": [
    {
     "name": "stdout",
     "output_type": "stream",
     "text": [
      "1\n",
      "2\n",
      "3\n",
      "4\n",
      "5\n",
      "6\n",
      "7\n",
      "8\n",
      "9\n",
      "10\n"
     ]
    }
   ],
   "source": [
    "for idx in range(1, 11):\n",
    "    print(idx)"
   ]
  },
  {
   "cell_type": "code",
   "execution_count": 58,
   "id": "e0e60bd1-3cf5-41e3-8c9d-d894c2c4472e",
   "metadata": {},
   "outputs": [
    {
     "name": "stdout",
     "output_type": "stream",
     "text": [
      "Shuttle 1 launched\n",
      "Shuttle 2 launched\n",
      "Shuttle 3 launched\n",
      "Shuttle 4 launched\n",
      "Shuttle 5 launched\n",
      "All shuttles launched\n"
     ]
    }
   ],
   "source": [
    "# Create launch variables\n",
    "launched_shuttles = 0\n",
    "total_shuttles = 5\n",
    "\n",
    "# Create a while loop\n",
    "while True:\n",
    "    # String formatting - injecting values into the string\n",
    "    print('Shuttle {} launched'.format(launched_shuttles+1))\n",
    "    launched_shuttles += 1\n",
    "\n",
    "    if launched_shuttles == total_shuttles:\n",
    "        print('All shuttles launched')\n",
    "        break"
   ]
  },
  {
   "cell_type": "code",
   "execution_count": 59,
   "id": "eb3406f5-1150-499a-8ce6-74e4728b29da",
   "metadata": {},
   "outputs": [],
   "source": [
    "# Loop through dictionary\n",
    "\n",
    "astronaut = {\n",
    "    'name':'elon musk',\n",
    "    'suit_size':'large',\n",
    "    'allergies':'peanuts'\n",
    "}"
   ]
  },
  {
   "cell_type": "code",
   "execution_count": 60,
   "id": "a72f7c3d-8ab0-432b-a656-1142c0ccf40f",
   "metadata": {},
   "outputs": [
    {
     "data": {
      "text/plain": [
       "dict_keys(['name', 'suit_size', 'allergies'])"
      ]
     },
     "execution_count": 60,
     "metadata": {},
     "output_type": "execute_result"
    }
   ],
   "source": [
    "# Accessing a dictionary keys\n",
    "astronaut.keys()"
   ]
  },
  {
   "cell_type": "code",
   "execution_count": 61,
   "id": "de32c1f7-4229-4154-8dc0-988793156358",
   "metadata": {},
   "outputs": [
    {
     "name": "stdout",
     "output_type": "stream",
     "text": [
      "name\n",
      "suit_size\n",
      "allergies\n"
     ]
    }
   ],
   "source": [
    "# Loop through keys in a dictionary\n",
    "for key in astronaut.keys():\n",
    "    print(key)"
   ]
  },
  {
   "cell_type": "code",
   "execution_count": 62,
   "id": "b55f4f97-f808-478f-985c-c48e5b364241",
   "metadata": {},
   "outputs": [
    {
     "data": {
      "text/plain": [
       "dict_values(['elon musk', 'large', 'peanuts'])"
      ]
     },
     "execution_count": 62,
     "metadata": {},
     "output_type": "execute_result"
    }
   ],
   "source": [
    "# Accessing a dcitionary values\n",
    "astronaut.values()"
   ]
  },
  {
   "cell_type": "code",
   "execution_count": 63,
   "id": "e8dc2a6a-b59d-4ea8-a01f-235b2aa2919e",
   "metadata": {},
   "outputs": [
    {
     "name": "stdout",
     "output_type": "stream",
     "text": [
      "elon musk\n",
      "large\n",
      "peanuts\n"
     ]
    }
   ],
   "source": [
    "# Loop through values in a dictionary\n",
    "for values in astronaut.values():\n",
    "    print(values)"
   ]
  },
  {
   "cell_type": "code",
   "execution_count": 64,
   "id": "1842aedc-1402-4c08-888f-ea72dae5f1ef",
   "metadata": {},
   "outputs": [
    {
     "name": "stdout",
     "output_type": "stream",
     "text": [
      "name:elon musk\n",
      "suit_size:large\n",
      "allergies:peanuts\n"
     ]
    }
   ],
   "source": [
    "# Loop through keys and values at the same time\n",
    "\n",
    "for key, value in astronaut.items():\n",
    "    print(key + ':' + value)"
   ]
  },
  {
   "cell_type": "code",
   "execution_count": 65,
   "id": "21714145-dbc8-4623-a5bd-8c323319e1fc",
   "metadata": {},
   "outputs": [],
   "source": [
    "# List comprehension\n",
    "new_list=[name.title() for name in names]"
   ]
  },
  {
   "cell_type": "code",
   "execution_count": 66,
   "id": "f486cdd8-5762-4964-a7c6-877541aea074",
   "metadata": {},
   "outputs": [
    {
     "data": {
      "text/plain": [
       "['Neil Amstrong', 'Buzz Aldrin', 'Sally Ride', 'Yuri Gagarin', 'Elon Musk']"
      ]
     },
     "execution_count": 66,
     "metadata": {},
     "output_type": "execute_result"
    }
   ],
   "source": [
    "new_list"
   ]
  },
  {
   "cell_type": "code",
   "execution_count": 67,
   "id": "e543f39f-7be8-4e03-ac4d-edeed0f5fe9d",
   "metadata": {},
   "outputs": [
    {
     "data": {
      "text/plain": [
       "['neil amstrong', 'buzz aldrin', 'sally ride', 'yuri gagarin', 'elon musk']"
      ]
     },
     "execution_count": 67,
     "metadata": {},
     "output_type": "execute_result"
    }
   ],
   "source": [
    "names"
   ]
  },
  {
   "cell_type": "code",
   "execution_count": 68,
   "id": "cbc4d729-3323-46fe-bd56-ba6585724a5c",
   "metadata": {},
   "outputs": [],
   "source": [
    "# .title() untuk besarkan huruf depan"
   ]
  },
  {
   "cell_type": "markdown",
   "id": "39b3e235-3f2e-4e39-8fe4-8c37d7c4c7f2",
   "metadata": {},
   "source": [
    "# 6. Functions"
   ]
  },
  {
   "cell_type": "code",
   "execution_count": 69,
   "id": "230723ec-2985-40ae-b742-5d781367215f",
   "metadata": {},
   "outputs": [],
   "source": [
    "# Defining a function in Python\n",
    "def launchpad_welcome():\n",
    "    print('hello')\n",
    "    print(1+2)\n",
    "    print(1+4)"
   ]
  },
  {
   "cell_type": "code",
   "execution_count": 70,
   "id": "45bbf47a-0230-4955-a265-689e16f380c8",
   "metadata": {},
   "outputs": [
    {
     "name": "stdout",
     "output_type": "stream",
     "text": [
      "hello\n",
      "3\n",
      "5\n"
     ]
    }
   ],
   "source": [
    "# Running our function\n",
    "launchpad_welcome()"
   ]
  },
  {
   "cell_type": "code",
   "execution_count": 71,
   "id": "940a7180-f2c8-4a44-8b67-19e0a7dc8c0f",
   "metadata": {},
   "outputs": [],
   "source": [
    "names=['neil armstrong', 'buzz aldrin', 'sally ride', 'yuri gagarin', 'elon musk']"
   ]
  },
  {
   "cell_type": "code",
   "execution_count": 72,
   "id": "b4a8f750-0579-4ea5-83c8-5bcac3c2d1e3",
   "metadata": {},
   "outputs": [],
   "source": [
    "# Positional Arguments\n",
    "def custom_welcome(name):\n",
    "    print('Welcome {}'.format(name))"
   ]
  },
  {
   "cell_type": "code",
   "execution_count": 73,
   "id": "33f6c3d9-cbf4-4769-937e-90b0f861208d",
   "metadata": {},
   "outputs": [
    {
     "name": "stdout",
     "output_type": "stream",
     "text": [
      "Welcome neil armstrong\n",
      "Welcome buzz aldrin\n",
      "Welcome sally ride\n",
      "Welcome yuri gagarin\n",
      "Welcome elon musk\n"
     ]
    }
   ],
   "source": [
    "for name in names:\n",
    "    custom_welcome(name)"
   ]
  },
  {
   "cell_type": "code",
   "execution_count": 74,
   "id": "5da5d051-4443-4ba0-b58a-aeb9e76f24b5",
   "metadata": {},
   "outputs": [],
   "source": [
    "# Multiple Positional Arguments - POSITION IS IMPORTANT\n",
    "def custom_welcome_to_ship(name, space_ship):\n",
    "    print('Welcome {} to the {}'.format(name, space_ship))"
   ]
  },
  {
   "cell_type": "code",
   "execution_count": 75,
   "id": "f2ef1cc9-5502-42ff-9b89-f684cf3e6fc6",
   "metadata": {},
   "outputs": [
    {
     "name": "stdout",
     "output_type": "stream",
     "text": [
      "Welcome Lukman to the Galactic 1\n"
     ]
    }
   ],
   "source": [
    "custom_welcome_to_ship('Lukman', 'Galactic 1')"
   ]
  },
  {
   "cell_type": "code",
   "execution_count": 76,
   "id": "1940fb7f-cc0e-4bd3-868b-dd13aff63dc9",
   "metadata": {},
   "outputs": [],
   "source": [
    "space_ships = ['Galactic 1', 'Galactic 2', 'USS Voyager', 'Soyuz 1', 'Apple Space Ship']"
   ]
  },
  {
   "cell_type": "code",
   "execution_count": 77,
   "id": "d5ce5d48-dcf0-45d5-9974-e63d1aac8bb8",
   "metadata": {},
   "outputs": [
    {
     "name": "stdout",
     "output_type": "stream",
     "text": [
      "Welcome neil armstrong to the Galactic 1\n",
      "Welcome buzz aldrin to the Galactic 2\n",
      "Welcome sally ride to the USS Voyager\n",
      "Welcome yuri gagarin to the Soyuz 1\n",
      "Welcome elon musk to the Apple Space Ship\n"
     ]
    }
   ],
   "source": [
    "# Use the enumerate function to get the positional index AND the name\n",
    "for idx,name in enumerate(names):\n",
    "    ship = space_ships[idx]\n",
    "    custom_welcome_to_ship(name, ship)"
   ]
  },
  {
   "cell_type": "code",
   "execution_count": 78,
   "id": "d3b2712a-1180-4324-b00e-b027a1ef220d",
   "metadata": {},
   "outputs": [],
   "source": [
    "# This is using keyword arguments\n",
    "def space_suit(color='Blue'):\n",
    "    print('Your space suit is {}'.format(color))"
   ]
  },
  {
   "cell_type": "code",
   "execution_count": 79,
   "id": "99de0785-68fd-4a73-9dae-0127c080a01b",
   "metadata": {},
   "outputs": [
    {
     "name": "stdout",
     "output_type": "stream",
     "text": [
      "Your space suit is Red\n"
     ]
    }
   ],
   "source": [
    "space_suit(color='Red')"
   ]
  },
  {
   "cell_type": "code",
   "execution_count": 80,
   "id": "c602fe8a-09af-4ce8-97b5-4ace36d31ed3",
   "metadata": {},
   "outputs": [],
   "source": [
    "# Multiple keyword arguments\n",
    "def space_suit_welcome(name, space_ship, color='Blue', allergies='None'):\n",
    "    print('Welcome {} to the {}, your space suit is {}, you have {} allergies'.format(name, space_ship, color, allergies))"
   ]
  },
  {
   "cell_type": "code",
   "execution_count": 81,
   "id": "1523f2c8-2d6c-44b3-9044-3a513abd22a7",
   "metadata": {},
   "outputs": [
    {
     "name": "stdout",
     "output_type": "stream",
     "text": [
      "Welcome Elon Musk to the Apple iShip, your space suit is Red, you have Peanuts allergies\n"
     ]
    }
   ],
   "source": [
    "space_suit_welcome('Elon Musk', 'Apple iShip', color='Red', allergies='Peanuts')"
   ]
  },
  {
   "cell_type": "code",
   "execution_count": 82,
   "id": "a9c55da9-67ae-4a99-9ea6-523697f8efd7",
   "metadata": {},
   "outputs": [],
   "source": [
    "# Setup a return statement\n",
    "def space_suit_welcome_with_return(name, space_ship, color='Blue', allergies='None'):\n",
    "    return 'Welcome {} to the {}, your space suit is {}, you have {} allergies'.format(name, space_ship, color, allergies)"
   ]
  },
  {
   "cell_type": "code",
   "execution_count": 83,
   "id": "4737f0f0-846b-4a3f-8c54-19c900dc9882",
   "metadata": {},
   "outputs": [
    {
     "data": {
      "text/plain": [
       "'Welcome Elon Musk to the Apple iShip, your space suit is Red, you have Peanuts allergies'"
      ]
     },
     "execution_count": 83,
     "metadata": {},
     "output_type": "execute_result"
    }
   ],
   "source": [
    "space_suit_welcome_with_return('Elon Musk', 'Apple iShip', color='Red', allergies='Peanuts')"
   ]
  },
  {
   "cell_type": "code",
   "execution_count": 84,
   "id": "17ca52e8-1b3c-4a38-acf5-6e4bd1259ef1",
   "metadata": {},
   "outputs": [],
   "source": [
    "# Example of storing results of the function inside of the variable\n",
    "welcome = space_suit_welcome_with_return('Elon Musk', 'Apple iShip', color='Red', allergies='Peanuts')"
   ]
  },
  {
   "cell_type": "code",
   "execution_count": 85,
   "id": "e35fa13d-7cb0-4106-92c4-7d6813bc6511",
   "metadata": {},
   "outputs": [
    {
     "name": "stdout",
     "output_type": "stream",
     "text": [
      "Welcome Elon Musk to the Apple iShip, your space suit is Red, you have Peanuts allergies\n"
     ]
    }
   ],
   "source": [
    "print(welcome)"
   ]
  },
  {
   "cell_type": "code",
   "execution_count": 86,
   "id": "3fa6a6de-bae8-4770-a6a3-c4e8e99a377b",
   "metadata": {},
   "outputs": [],
   "source": [
    "# lambda function - anonymous function\n",
    "# needs to be in a single line\n",
    "pi = lambda x: x*3.142"
   ]
  },
  {
   "cell_type": "code",
   "execution_count": 87,
   "id": "db3c6868-bf9f-448f-81d2-730b91e566ef",
   "metadata": {},
   "outputs": [
    {
     "data": {
      "text/plain": [
       "6.284"
      ]
     },
     "execution_count": 87,
     "metadata": {},
     "output_type": "execute_result"
    }
   ],
   "source": [
    "pi(2)"
   ]
  },
  {
   "cell_type": "markdown",
   "id": "0ae09067-2f0a-4679-b08b-e970925880cb",
   "metadata": {},
   "source": [
    "# 7. Classes"
   ]
  },
  {
   "cell_type": "code",
   "execution_count": 88,
   "id": "380d4872-df80-423c-afec-528f5803a2e0",
   "metadata": {},
   "outputs": [],
   "source": [
    "# Classes as boilerplates for objects\n",
    "# Basically, a function that is attached to a class, and has its own attributes/properties\n",
    "class Person():\n",
    "    # The method that runs as soon as you create a class - initialise\n",
    "    # self macam this dalam java\n",
    "    def __init__(self, name, age, color):\n",
    "        # Create some attributes for our person class\n",
    "        self.name = name\n",
    "        self.age = age\n",
    "        self.color = color\n",
    "\n",
    "    # Methods are similar to functions, the core difference is that a method must be called on an object(which is an instance of a class).\n",
    "    # Date of biorth method\n",
    "    def year_of_birth(self):\n",
    "        return 2024-self.age\n",
    "\n",
    "    # Projected age\n",
    "    def project_age(self, years=5):\n",
    "        return self.age+years"
   ]
  },
  {
   "cell_type": "code",
   "execution_count": 89,
   "id": "a82323cc-ac6c-4823-bba3-bae3be014bda",
   "metadata": {},
   "outputs": [],
   "source": [
    "new_person = Person('Elon Musk', 38, 'blue')"
   ]
  },
  {
   "cell_type": "code",
   "execution_count": 90,
   "id": "07356052-b856-4d9a-a163-6fcfb6b29dda",
   "metadata": {},
   "outputs": [
    {
     "data": {
      "text/plain": [
       "'Elon Musk'"
      ]
     },
     "execution_count": 90,
     "metadata": {},
     "output_type": "execute_result"
    }
   ],
   "source": [
    "# Accessing a class attribute\n",
    "new_person.name"
   ]
  },
  {
   "cell_type": "code",
   "execution_count": 91,
   "id": "5abe238b-2ffe-4940-96a0-a3e24f5a3e94",
   "metadata": {},
   "outputs": [
    {
     "data": {
      "text/plain": [
       "38"
      ]
     },
     "execution_count": 91,
     "metadata": {},
     "output_type": "execute_result"
    }
   ],
   "source": [
    "new_person.age"
   ]
  },
  {
   "cell_type": "code",
   "execution_count": 92,
   "id": "d450ac84-0742-43af-8fd1-eccc0c9ace45",
   "metadata": {},
   "outputs": [
    {
     "data": {
      "text/plain": [
       "1986"
      ]
     },
     "execution_count": 92,
     "metadata": {},
     "output_type": "execute_result"
    }
   ],
   "source": [
    "# Run a method\n",
    "# Accessing a method must have parentheses ()\n",
    "new_person.year_of_birth()"
   ]
  },
  {
   "cell_type": "code",
   "execution_count": 93,
   "id": "c5b66cd6-6216-41bc-87c7-36abf718a34e",
   "metadata": {},
   "outputs": [
    {
     "data": {
      "text/plain": [
       "48"
      ]
     },
     "execution_count": 93,
     "metadata": {},
     "output_type": "execute_result"
    }
   ],
   "source": [
    "# Run a method with a keyword argument\n",
    "new_person.project_age(years=10)"
   ]
  },
  {
   "cell_type": "code",
   "execution_count": 94,
   "id": "e50b59f6-a5a4-4779-aaba-309bc1da1d45",
   "metadata": {},
   "outputs": [
    {
     "data": {
      "text/plain": [
       "43"
      ]
     },
     "execution_count": 94,
     "metadata": {},
     "output_type": "execute_result"
    }
   ],
   "source": [
    "new_person.project_age()"
   ]
  },
  {
   "cell_type": "markdown",
   "id": "38c52e0c-c67f-47a3-8955-a606dcbcbba3",
   "metadata": {},
   "source": [
    "## 7.1 Inheritance\n",
    "- PARENT is the class passing down attributes and methods\n",
    "- CHILD is the class inheriting the methods and attributes\n",
    "- Inheriting from parent classes aloows you to make your code modular as you're extending an existing remplate (parent class) rather than redefining all the properties and methos all over again."
   ]
  },
  {
   "cell_type": "code",
   "execution_count": 95,
   "id": "a85c35ee-18ec-407c-972a-f9f98cb2ebda",
   "metadata": {},
   "outputs": [],
   "source": [
    "# Create a child class\n",
    "class Astronaut(Person):\n",
    "\n",
    "    # Define initialization function\n",
    "    def __init__(self, name, age, color, mission_length_months):\n",
    "        # This is what gives us inheritance - SUPER METHOD\n",
    "        super().__init__(name, age, color)\n",
    "        self.mission_length_months = mission_length_months\n",
    "\n",
    "    # Method for calculating age on return\n",
    "    def age_on_return(self):\n",
    "        return self.project_age(self.mission_length_months/12)\n",
    "        "
   ]
  },
  {
   "cell_type": "code",
   "execution_count": 96,
   "id": "77aaa677-805b-48cf-aad2-b630b43c5b36",
   "metadata": {},
   "outputs": [],
   "source": [
    "new_astronaut = Astronaut('Hafiz', 22, 'pink', 48)"
   ]
  },
  {
   "cell_type": "code",
   "execution_count": 97,
   "id": "60607374-0f04-4a50-a262-a5a96dc85f42",
   "metadata": {},
   "outputs": [
    {
     "data": {
      "text/plain": [
       "22"
      ]
     },
     "execution_count": 97,
     "metadata": {},
     "output_type": "execute_result"
    }
   ],
   "source": [
    "# Access parent like attribute\n",
    "new_astronaut.age"
   ]
  },
  {
   "cell_type": "code",
   "execution_count": 98,
   "id": "4368954c-c9ff-47e8-9537-84e0d9ad7a2c",
   "metadata": {},
   "outputs": [
    {
     "data": {
      "text/plain": [
       "2002"
      ]
     },
     "execution_count": 98,
     "metadata": {},
     "output_type": "execute_result"
    }
   ],
   "source": [
    "new_astronaut.year_of_birth()"
   ]
  },
  {
   "cell_type": "code",
   "execution_count": 99,
   "id": "8a6c87b9-7bf1-44e4-96c9-c9aae49cfffa",
   "metadata": {},
   "outputs": [
    {
     "data": {
      "text/plain": [
       "26.0"
      ]
     },
     "execution_count": 99,
     "metadata": {},
     "output_type": "execute_result"
    }
   ],
   "source": [
    "new_astronaut.age_on_return()"
   ]
  },
  {
   "cell_type": "markdown",
   "id": "ee536517-6737-433c-8736-2f28c8477fe1",
   "metadata": {},
   "source": [
    "# 8. Modules\n",
    "- Importing from modules keeps your code cleaner, makes it more modular and reduces the need to redefine classes or functions repeatedly throughout projects"
   ]
  },
  {
   "cell_type": "code",
   "execution_count": 100,
   "id": "08546231-bc0c-4db6-8337-4e3c910aff5e",
   "metadata": {},
   "outputs": [],
   "source": [
    "# Import launch codes helper\n",
    "from helpers import launch_codes"
   ]
  },
  {
   "cell_type": "code",
   "execution_count": 101,
   "id": "09b5ee5f-d076-45bf-ae1a-296e41840b69",
   "metadata": {},
   "outputs": [
    {
     "data": {
      "text/plain": [
       "123456789"
      ]
     },
     "execution_count": 101,
     "metadata": {},
     "output_type": "execute_result"
    }
   ],
   "source": [
    "launch_codes()"
   ]
  },
  {
   "cell_type": "markdown",
   "id": "608188fe-168b-4f64-830b-a73228ef1d83",
   "metadata": {},
   "source": [
    "# 9. Working with Packages\n",
    "- API stands for application programming interface. You'll frequently have to interact with APIs to grab data or work with systems\n",
    "- Remote URL that allows you to call it and return specific values"
   ]
  },
  {
   "cell_type": "code",
   "execution_count": 102,
   "id": "3e03250d-f20e-4683-af4d-e86a58654883",
   "metadata": {},
   "outputs": [],
   "source": [
    "#pip install requests"
   ]
  },
  {
   "cell_type": "code",
   "execution_count": 103,
   "id": "2172230d-6601-4d0b-bea3-84b06fa0c4b7",
   "metadata": {
    "scrolled": true
   },
   "outputs": [],
   "source": [
    "#!pip list"
   ]
  },
  {
   "cell_type": "code",
   "execution_count": 104,
   "id": "f7c36cf3-e9a5-4507-9cfc-d280fc46fe34",
   "metadata": {},
   "outputs": [],
   "source": [
    "# Import requests into notebook\n",
    "import requests"
   ]
  },
  {
   "cell_type": "code",
   "execution_count": 105,
   "id": "d30f41eb-64ea-4b20-8236-eae767a7b8ef",
   "metadata": {},
   "outputs": [
    {
     "data": {
      "text/plain": [
       "\u001b[1;31mSignature:\u001b[0m \u001b[0mrequests\u001b[0m\u001b[1;33m.\u001b[0m\u001b[0mget\u001b[0m\u001b[1;33m(\u001b[0m\u001b[0murl\u001b[0m\u001b[1;33m,\u001b[0m \u001b[0mparams\u001b[0m\u001b[1;33m=\u001b[0m\u001b[1;32mNone\u001b[0m\u001b[1;33m,\u001b[0m \u001b[1;33m**\u001b[0m\u001b[0mkwargs\u001b[0m\u001b[1;33m)\u001b[0m\u001b[1;33m\u001b[0m\u001b[1;33m\u001b[0m\u001b[0m\n",
       "\u001b[1;31mSource:\u001b[0m   \n",
       "\u001b[1;32mdef\u001b[0m \u001b[0mget\u001b[0m\u001b[1;33m(\u001b[0m\u001b[0murl\u001b[0m\u001b[1;33m,\u001b[0m \u001b[0mparams\u001b[0m\u001b[1;33m=\u001b[0m\u001b[1;32mNone\u001b[0m\u001b[1;33m,\u001b[0m \u001b[1;33m**\u001b[0m\u001b[0mkwargs\u001b[0m\u001b[1;33m)\u001b[0m\u001b[1;33m:\u001b[0m\u001b[1;33m\n",
       "\u001b[0m    \u001b[1;34mr\"\"\"Sends a GET request.\n",
       "\n",
       "    :param url: URL for the new :class:`Request` object.\n",
       "    :param params: (optional) Dictionary, list of tuples or bytes to send\n",
       "        in the query string for the :class:`Request`.\n",
       "    :param \\*\\*kwargs: Optional arguments that ``request`` takes.\n",
       "    :return: :class:`Response <Response>` object\n",
       "    :rtype: requests.Response\n",
       "    \"\"\"\u001b[0m\u001b[1;33m\n",
       "\u001b[0m\u001b[1;33m\n",
       "\u001b[0m    \u001b[1;32mreturn\u001b[0m \u001b[0mrequest\u001b[0m\u001b[1;33m(\u001b[0m\u001b[1;34m\"get\"\u001b[0m\u001b[1;33m,\u001b[0m \u001b[0murl\u001b[0m\u001b[1;33m,\u001b[0m \u001b[0mparams\u001b[0m\u001b[1;33m=\u001b[0m\u001b[0mparams\u001b[0m\u001b[1;33m,\u001b[0m \u001b[1;33m**\u001b[0m\u001b[0mkwargs\u001b[0m\u001b[1;33m)\u001b[0m\u001b[1;33m\u001b[0m\u001b[1;33m\u001b[0m\u001b[0m\n",
       "\u001b[1;31mFile:\u001b[0m      c:\\programdata\\anaconda3\\lib\\site-packages\\requests\\api.py\n",
       "\u001b[1;31mType:\u001b[0m      function"
      ]
     },
     "metadata": {},
     "output_type": "display_data"
    }
   ],
   "source": [
    "requests.get??"
   ]
  },
  {
   "cell_type": "code",
   "execution_count": 106,
   "id": "bb427a68-09a9-44db-9583-47799239b4b9",
   "metadata": {},
   "outputs": [],
   "source": [
    "# I can haz dad joke api endpoint\n",
    "# endpoint is just the url that you need to be hitting\n",
    "joke_url = 'https://icanhazdadjoke.com'\n",
    "\n",
    "# ISS API endpoint\n",
    "iss_url = 'https://api.wheretheiss.at/v1/satellites/25544'"
   ]
  },
  {
   "cell_type": "code",
   "execution_count": 107,
   "id": "eb1bec9b-c75e-440a-b0ab-2887e4648933",
   "metadata": {},
   "outputs": [],
   "source": [
    "# This is setting up a header - metadata for your api requests\n",
    "my_header = {\n",
    "    'Accept':'application/json'\n",
    "}\n",
    "\n",
    "# API call\n",
    "results = requests.get(joke_url, headers=my_header)"
   ]
  },
  {
   "cell_type": "code",
   "execution_count": 108,
   "id": "5fcf9324-f492-4493-bc2f-2949b5fa88ed",
   "metadata": {},
   "outputs": [
    {
     "data": {
      "text/plain": [
       "<Response [200]>"
      ]
     },
     "execution_count": 108,
     "metadata": {},
     "output_type": "execute_result"
    }
   ],
   "source": [
    "# Status of API request\n",
    "results"
   ]
  },
  {
   "cell_type": "code",
   "execution_count": 109,
   "id": "2305688b-689c-47bd-915f-5071dc27e8ee",
   "metadata": {},
   "outputs": [],
   "source": [
    "# Extract JSON results from API\n",
    "json_result = results.json()"
   ]
  },
  {
   "cell_type": "code",
   "execution_count": 110,
   "id": "6533efb5-827c-41a8-b1c4-5cdf2c454e64",
   "metadata": {},
   "outputs": [
    {
     "data": {
      "text/plain": [
       "{'id': '9xPCt411ojb',\n",
       " 'joke': 'What did one snowman say to the other snow man? Do you smell carrot?',\n",
       " 'status': 200}"
      ]
     },
     "execution_count": 110,
     "metadata": {},
     "output_type": "execute_result"
    }
   ],
   "source": [
    "json_result"
   ]
  },
  {
   "cell_type": "code",
   "execution_count": 111,
   "id": "b2eafdd5-ba0a-432a-add2-ca773fe8471c",
   "metadata": {},
   "outputs": [
    {
     "data": {
      "text/plain": [
       "dict"
      ]
     },
     "execution_count": 111,
     "metadata": {},
     "output_type": "execute_result"
    }
   ],
   "source": [
    "type(json_result)"
   ]
  },
  {
   "cell_type": "code",
   "execution_count": 112,
   "id": "84ce1912-f5a7-4590-b4ce-e9eeddfe5a31",
   "metadata": {},
   "outputs": [
    {
     "data": {
      "text/plain": [
       "'What did one snowman say to the other snow man? Do you smell carrot?'"
      ]
     },
     "execution_count": 112,
     "metadata": {},
     "output_type": "execute_result"
    }
   ],
   "source": [
    "json_result['joke']"
   ]
  },
  {
   "cell_type": "code",
   "execution_count": 113,
   "id": "c23af5a7-5200-4e88-974e-741ad8c17698",
   "metadata": {},
   "outputs": [],
   "source": [
    "# Making an ISS API call\n",
    "iss_results = requests.get(iss_url, headers=my_header)"
   ]
  },
  {
   "cell_type": "code",
   "execution_count": 114,
   "id": "81bfec18-a835-4ff0-825c-71acbee393c2",
   "metadata": {},
   "outputs": [
    {
     "data": {
      "text/plain": [
       "<Response [200]>"
      ]
     },
     "execution_count": 114,
     "metadata": {},
     "output_type": "execute_result"
    }
   ],
   "source": [
    "iss_results"
   ]
  },
  {
   "cell_type": "code",
   "execution_count": 115,
   "id": "2d2f3f73-e539-42a2-88dd-270fa0c26bf7",
   "metadata": {},
   "outputs": [
    {
     "data": {
      "text/plain": [
       "{'name': 'iss',\n",
       " 'id': 25544,\n",
       " 'latitude': 31.478033083534,\n",
       " 'longitude': -73.590149082797,\n",
       " 'altitude': 415.29321193965,\n",
       " 'velocity': 27603.317378391,\n",
       " 'visibility': 'daylight',\n",
       " 'footprint': 4483.4394962213,\n",
       " 'timestamp': 1743182772,\n",
       " 'daynum': 2460763.2265278,\n",
       " 'solar_lat': 3.2859163935568,\n",
       " 'solar_lon': 279.67864263014,\n",
       " 'units': 'kilometers'}"
      ]
     },
     "execution_count": 115,
     "metadata": {},
     "output_type": "execute_result"
    }
   ],
   "source": [
    "iss_results.json()"
   ]
  },
  {
   "cell_type": "markdown",
   "id": "b3dc342d-a416-4c58-8c50-1992d830b77a",
   "metadata": {},
   "source": [
    "# 10. Working with Files"
   ]
  },
  {
   "cell_type": "markdown",
   "id": "bceaf1a3-7920-46b2-bdcd-75c5ffbe3fee",
   "metadata": {},
   "source": [
    "__with statement__\n",
    "- helps work with resources like file streams.\n",
    "- it handles exceptions and ensures the stream is closed when no longer needed.\n",
    "\n",
    "__open modes__\n",
    "- There are a number of different modes you can use with the open function. Some common ones are :\n",
    "  - i. r:read\n",
    "  - ii. w: write\n",
    "  - iii. a: append\n",
    "  - iv. rb, wb: read binary, write binary"
   ]
  },
  {
   "cell_type": "code",
   "execution_count": 116,
   "id": "cd112623-7bfe-4645-a212-4231af0fb0ac",
   "metadata": {
    "scrolled": true
   },
   "outputs": [],
   "source": [
    "#open??"
   ]
  },
  {
   "cell_type": "code",
   "execution_count": 117,
   "id": "f0e20eeb-4602-47ab-88f0-1eed165d0743",
   "metadata": {},
   "outputs": [],
   "source": [
    "# Write out our mission journal - w\n",
    "with open('mission_journal.txt', 'w') as f:\n",
    "    f.write(\"It's my first day on the space mission. It is very nice.\")"
   ]
  },
  {
   "cell_type": "code",
   "execution_count": 118,
   "id": "86bf1857-0ab6-41b2-a6ef-a064d8116286",
   "metadata": {},
   "outputs": [],
   "source": [
    "# Read from journal - r\n",
    "with open('mission_journal.txt', 'r') as f:\n",
    "    file = f.read()"
   ]
  },
  {
   "cell_type": "code",
   "execution_count": 119,
   "id": "32601fa3-8e03-45b7-9535-c393e6e039c5",
   "metadata": {},
   "outputs": [
    {
     "name": "stdout",
     "output_type": "stream",
     "text": [
      "It's my first day on the space mission. It is very nice.\n"
     ]
    }
   ],
   "source": [
    "print(file)"
   ]
  },
  {
   "cell_type": "markdown",
   "id": "af62ad1f-6ee3-4b8d-a338-0a92da9a2379",
   "metadata": {},
   "source": [
    "# 11. Error Handling"
   ]
  },
  {
   "cell_type": "code",
   "execution_count": 120,
   "id": "6993121a-762c-4bf4-a508-dc190c961b28",
   "metadata": {},
   "outputs": [],
   "source": [
    "# Creat a set\n",
    "new_set = {1,2,3,4,5,6}"
   ]
  },
  {
   "cell_type": "markdown",
   "id": "095ead81-8017-4a68-a345-65d34a10ee5f",
   "metadata": {},
   "source": [
    "__Exception__\n",
    "- Note that by wrapping our code (which should cause an error) in a try/except block, an exception hasn't been raised but rather it's been handled gracefully."
   ]
  },
  {
   "cell_type": "code",
   "execution_count": 121,
   "id": "eccbd086-c911-4cae-b3d5-d97ee5a70452",
   "metadata": {},
   "outputs": [
    {
     "name": "stdout",
     "output_type": "stream",
     "text": [
      "'set' object does not support item assignment\n",
      "Something went wront with your request.\n"
     ]
    }
   ],
   "source": [
    "# Try something using the try keyword\n",
    "try:\n",
    "    # Run a piece of code which may cause an error\n",
    "    new_set[0] = 4\n",
    "\n",
    "# If we have an error, this code below will run\n",
    "except Exception as e:\n",
    "    # Print out something that's a little nicer for the user\n",
    "    print(e)\n",
    "    print('Something went wront with your request.')"
   ]
  },
  {
   "cell_type": "markdown",
   "id": "1fe9cbfc-bf7f-4b13-993c-502435e0e2b1",
   "metadata": {},
   "source": [
    "# 12. Math"
   ]
  },
  {
   "cell_type": "code",
   "execution_count": 122,
   "id": "e5703148-d843-4611-a45e-c3a440359ab7",
   "metadata": {},
   "outputs": [],
   "source": [
    "# Create two variables\n",
    "value_1 = 123\n",
    "value_2 = 456"
   ]
  },
  {
   "cell_type": "code",
   "execution_count": 123,
   "id": "5aff0574-70f9-4d9a-b3e9-c191a3cbbe7e",
   "metadata": {},
   "outputs": [
    {
     "data": {
      "text/plain": [
       "579"
      ]
     },
     "execution_count": 123,
     "metadata": {},
     "output_type": "execute_result"
    }
   ],
   "source": [
    "# Addition\n",
    "value_1 + value_2"
   ]
  },
  {
   "cell_type": "code",
   "execution_count": 124,
   "id": "bed12022-f585-46f5-96b4-a9d03f05b7d9",
   "metadata": {},
   "outputs": [
    {
     "data": {
      "text/plain": [
       "-333"
      ]
     },
     "execution_count": 124,
     "metadata": {},
     "output_type": "execute_result"
    }
   ],
   "source": [
    "# Substraction\n",
    "value_1 - value_2"
   ]
  },
  {
   "cell_type": "code",
   "execution_count": 125,
   "id": "ce717341-3835-4549-8f5b-c7a52e50e2a3",
   "metadata": {},
   "outputs": [
    {
     "data": {
      "text/plain": [
       "0.26973684210526316"
      ]
     },
     "execution_count": 125,
     "metadata": {},
     "output_type": "execute_result"
    }
   ],
   "source": [
    "# Division\n",
    "value_1/value_2"
   ]
  },
  {
   "cell_type": "code",
   "execution_count": 126,
   "id": "3efc596f-97df-457b-a465-1b32358aa6ec",
   "metadata": {},
   "outputs": [
    {
     "data": {
      "text/plain": [
       "3"
      ]
     },
     "execution_count": 126,
     "metadata": {},
     "output_type": "execute_result"
    }
   ],
   "source": [
    "# Dividing with the Integral Result\n",
    "value_2 // value_1"
   ]
  },
  {
   "cell_type": "code",
   "execution_count": 127,
   "id": "9e7210e2-bebc-42e9-ac85-df37fe22fde4",
   "metadata": {},
   "outputs": [
    {
     "data": {
      "text/plain": [
       "87"
      ]
     },
     "execution_count": 127,
     "metadata": {},
     "output_type": "execute_result"
    }
   ],
   "source": [
    "# Modulus/Modulo\n",
    "value_2 % value_1"
   ]
  },
  {
   "cell_type": "code",
   "execution_count": 128,
   "id": "3c33dbee-e5dd-48e6-a385-1f19ef1331df",
   "metadata": {},
   "outputs": [
    {
     "data": {
      "text/plain": [
       "56088"
      ]
     },
     "execution_count": 128,
     "metadata": {},
     "output_type": "execute_result"
    }
   ],
   "source": [
    "# Multiplication\n",
    "value_1 * value_2"
   ]
  },
  {
   "cell_type": "code",
   "execution_count": 129,
   "id": "f44ad3fb-1e21-436b-aa29-e863ca5942e9",
   "metadata": {},
   "outputs": [
    {
     "data": {
      "text/plain": [
       "25"
      ]
     },
     "execution_count": 129,
     "metadata": {},
     "output_type": "execute_result"
    }
   ],
   "source": [
    "# Power - two asterisks\n",
    "5 ** 2"
   ]
  },
  {
   "cell_type": "code",
   "execution_count": 130,
   "id": "f5143dc2-27a1-48fe-8995-873df8cab254",
   "metadata": {},
   "outputs": [
    {
     "data": {
      "text/plain": [
       "15129"
      ]
     },
     "execution_count": 130,
     "metadata": {},
     "output_type": "execute_result"
    }
   ],
   "source": [
    "value_1 ** 2"
   ]
  },
  {
   "cell_type": "code",
   "execution_count": 131,
   "id": "154e70c5-ff0a-4c30-97a3-7b29b3315492",
   "metadata": {},
   "outputs": [
    {
     "data": {
      "text/plain": [
       "123"
      ]
     },
     "execution_count": 131,
     "metadata": {},
     "output_type": "execute_result"
    }
   ],
   "source": [
    "# Round\n",
    "round(123.456)"
   ]
  },
  {
   "cell_type": "code",
   "execution_count": 132,
   "id": "f08b4d7d-0995-4e00-865f-dc67540e5615",
   "metadata": {},
   "outputs": [
    {
     "data": {
      "text/plain": [
       "123.46"
      ]
     },
     "execution_count": 132,
     "metadata": {},
     "output_type": "execute_result"
    }
   ],
   "source": [
    "round(123.456, 2)"
   ]
  },
  {
   "cell_type": "code",
   "execution_count": 133,
   "id": "c1836ba7-ef5e-499c-8024-647d827f3cce",
   "metadata": {},
   "outputs": [
    {
     "data": {
      "text/plain": [
       "\u001b[1;31mSignature:\u001b[0m \u001b[0mround\u001b[0m\u001b[1;33m(\u001b[0m\u001b[0mnumber\u001b[0m\u001b[1;33m,\u001b[0m \u001b[0mndigits\u001b[0m\u001b[1;33m=\u001b[0m\u001b[1;32mNone\u001b[0m\u001b[1;33m)\u001b[0m\u001b[1;33m\u001b[0m\u001b[1;33m\u001b[0m\u001b[0m\n",
       "\u001b[1;31mDocstring:\u001b[0m\n",
       "Round a number to a given precision in decimal digits.\n",
       "\n",
       "The return value is an integer if ndigits is omitted or None.  Otherwise\n",
       "the return value has the same type as the number.  ndigits may be negative.\n",
       "\u001b[1;31mType:\u001b[0m      builtin_function_or_method"
      ]
     },
     "metadata": {},
     "output_type": "display_data"
    }
   ],
   "source": [
    "round??"
   ]
  },
  {
   "cell_type": "code",
   "execution_count": 134,
   "id": "f6ba076b-8f1b-40a0-9f3a-72830625dba1",
   "metadata": {},
   "outputs": [
    {
     "data": {
      "text/plain": [
       "10990"
      ]
     },
     "execution_count": 134,
     "metadata": {},
     "output_type": "execute_result"
    }
   ],
   "source": [
    "# Absolute values\n",
    "abs(-10990)"
   ]
  },
  {
   "cell_type": "code",
   "execution_count": 135,
   "id": "e4b19954-5cbe-4cfb-8ff6-4ea676dac72d",
   "metadata": {},
   "outputs": [
    {
     "data": {
      "text/plain": [
       "43"
      ]
     },
     "execution_count": 135,
     "metadata": {},
     "output_type": "execute_result"
    }
   ],
   "source": [
    "# Minimum - return smallest values\n",
    "min(2321, 34253, 232, 234, 43)"
   ]
  },
  {
   "cell_type": "code",
   "execution_count": 136,
   "id": "253b45dc-8d2e-49af-b785-da991a0b477d",
   "metadata": {},
   "outputs": [
    {
     "data": {
      "text/plain": [
       "24312"
      ]
     },
     "execution_count": 136,
     "metadata": {},
     "output_type": "execute_result"
    }
   ],
   "source": [
    "# Maximum - return maximum values\n",
    "max(24312, 422, 4324, 12, 34)"
   ]
  },
  {
   "cell_type": "code",
   "execution_count": 137,
   "id": "e8b0342e-7305-4764-b2c3-e4524ad1bf86",
   "metadata": {},
   "outputs": [],
   "source": [
    "# Import the math package\n",
    "import math"
   ]
  },
  {
   "cell_type": "code",
   "execution_count": 138,
   "id": "1ab4cc97-756a-460f-b30f-3fff135aa85b",
   "metadata": {},
   "outputs": [
    {
     "data": {
      "text/plain": [
       "\u001b[1;31mSignature:\u001b[0m \u001b[0mmath\u001b[0m\u001b[1;33m.\u001b[0m\u001b[0mradians\u001b[0m\u001b[1;33m(\u001b[0m\u001b[0mx\u001b[0m\u001b[1;33m,\u001b[0m \u001b[1;33m/\u001b[0m\u001b[1;33m)\u001b[0m\u001b[1;33m\u001b[0m\u001b[1;33m\u001b[0m\u001b[0m\n",
       "\u001b[1;31mDocstring:\u001b[0m Convert angle x from degrees to radians.\n",
       "\u001b[1;31mType:\u001b[0m      builtin_function_or_method"
      ]
     },
     "metadata": {},
     "output_type": "display_data"
    }
   ],
   "source": [
    "math.radians??"
   ]
  },
  {
   "cell_type": "code",
   "execution_count": null,
   "id": "ea777b4b-deaf-4dc3-b04c-eb7240e489cd",
   "metadata": {},
   "outputs": [],
   "source": []
  }
 ],
 "metadata": {
  "kernelspec": {
   "display_name": "Python 3 (ipykernel)",
   "language": "python",
   "name": "python3"
  },
  "language_info": {
   "codemirror_mode": {
    "name": "ipython",
    "version": 3
   },
   "file_extension": ".py",
   "mimetype": "text/x-python",
   "name": "python",
   "nbconvert_exporter": "python",
   "pygments_lexer": "ipython3",
   "version": "3.11.5"
  }
 },
 "nbformat": 4,
 "nbformat_minor": 5
}
